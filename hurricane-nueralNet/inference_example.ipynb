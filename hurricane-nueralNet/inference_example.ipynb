{
 "cells": [
  {
   "cell_type": "markdown",
   "metadata": {},
   "source": [
    "# Testing the API"
   ]
  },
  {
   "cell_type": "code",
   "execution_count": 37,
   "metadata": {},
   "outputs": [],
   "source": [
    "import requests\n",
    "port = 5001\n",
    "# Note: I am using port 5001 locally, but flask is typically 5000\n",
    "# docker run -p 5001:5000 -it --rm jthet/hurricane-prediction:latest"
   ]
  },
  {
   "cell_type": "code",
   "execution_count": 38,
   "metadata": {},
   "outputs": [
    {
     "name": "stdout",
     "output_type": "stream",
     "text": [
      "{\n",
      "  \"/model/available\": {\n",
      "    \"description\": \"Lists the available TensorFlow models that users can switch to.\",\n",
      "    \"example\": \"curl http://127.0.0.1:5001/model/available\",\n",
      "    \"method\": \"GET\"\n",
      "  },\n",
      "  \"/model/change\": {\n",
      "    \"description\": \"Changes the TensorFlow model used by the server.\",\n",
      "    \"example\": \"curl -X POST -H 'Content-Type: application/json' -d '{\\\"model_name\\\": \\\"vgg\\\"}' http://127.0.0.1:5001/changeModel\",\n",
      "    \"method\": \"POST\"\n",
      "  },\n",
      "  \"/model/info\": {\n",
      "    \"description\": \"Provides basic information about the currently loaded TensorFlow model.\",\n",
      "    \"example\": \"curl http://127.0.0.1:5001/model/info\",\n",
      "    \"method\": \"GET\"\n",
      "  },\n",
      "  \"/model/predict\": {\n",
      "    \"description\": \"Classifies an image uploaded by the user as either 'damaged' or 'not damaged'.\",\n",
      "    \"example\": \"curl -X POST -F 'image=@./data/damage/-93.795_30.03779.jpeg' http://localhost:5001/model/predict\",\n",
      "    \"method\": \"POST\"\n",
      "  },\n",
      "  \"/model/summary\": {\n",
      "    \"description\": \"Provides a textual summary of the currently loaded TensorFlow model's architecture.\",\n",
      "    \"example\": \"curl http://127.0.0.1:5001/model/summary\",\n",
      "    \"method\": \"GET\"\n",
      "  }\n",
      "}\n",
      "\n"
     ]
    }
   ],
   "source": [
    "'''\n",
    "Provides an overview and usage examples for the available API endpoints.\n",
    "\n",
    "Example: curl http://127.0.0.1:5001/help\n",
    "'''\n",
    "url = f'http://127.0.0.1:{port}/help'\n",
    "response = requests.get(url)\n",
    "print(response.text)"
   ]
  },
  {
   "cell_type": "markdown",
   "metadata": {},
   "source": [
    "## Route: /model/info"
   ]
  },
  {
   "cell_type": "code",
   "execution_count": 39,
   "metadata": {},
   "outputs": [
    {
     "name": "stdout",
     "output_type": "stream",
     "text": [
      "{'description': 'Classify images of houses as damaged or not using the alt_lenet tensorflow model.', 'name': 'alt_lenet', 'non-trainable parameters:': '0', 'total parameters:': '2601153', 'trainable parameters:': '2601153', 'version': 'v1'}\n"
     ]
    }
   ],
   "source": [
    "'''\n",
    "Provides basic information about the currently loaded TensorFlow model.\n",
    "\n",
    "GET: Returns a JSON object with the model's version, name, description,\n",
    "total number of parameters, number of trainable parameters, and number of non-trainable parameters.\n",
    "\n",
    "Example: curl http://127.0.0.1:5001/model/info\n",
    "'''\n",
    "url = f'http://127.0.0.1:{port}/model/info'\n",
    "response = requests.get(url)\n",
    "print(response.json())"
   ]
  },
  {
   "cell_type": "markdown",
   "metadata": {},
   "source": [
    "## Route: /model/models"
   ]
  },
  {
   "cell_type": "code",
   "execution_count": 40,
   "metadata": {},
   "outputs": [
    {
     "name": "stdout",
     "output_type": "stream",
     "text": [
      "{'available_models': ['vgg', 'resnet', 'xception', 'ann', 'lenet5', 'alt_lenet'], 'currently_loaded': 'alt_lenet', 'default_model': 'alt_lenet', 'note': 'alt_lenet is the default model loaded in and is the most accurate.'}\n"
     ]
    }
   ],
   "source": [
    "\"\"\"\n",
    "Lists the available TensorFlow models that users can switch to.\n",
    "\n",
    "GET: Returns a JSON object listing all available models and indicating the default model.\n",
    "\n",
    "Example: curl http://127.0.0.1:5001/model/models\n",
    "\"\"\"\n",
    "url = f'http://127.0.0.1:{port}/model/models'\n",
    "response = requests.get(url)\n",
    "print(response.json())"
   ]
  },
  {
   "cell_type": "markdown",
   "metadata": {},
   "source": [
    "## Route: /model/summary"
   ]
  },
  {
   "cell_type": "code",
   "execution_count": 41,
   "metadata": {},
   "outputs": [
    {
     "name": "stdout",
     "output_type": "stream",
     "text": [
      "[\n",
      "  \"Model: \\\"sequential_2\\\"\",\n",
      "  \"_________________________________________________________________\",\n",
      "  \" Layer (type)                Output Shape              Param #   \",\n",
      "  \"=================================================================\",\n",
      "  \" conv2d_2 (Conv2D)           (None, 126, 126, 32)      896       \",\n",
      "  \"                                                                 \",\n",
      "  \" max_pooling2d (MaxPooling2  (None, 63, 63, 32)        0         \",\n",
      "  \" D)                                                              \",\n",
      "  \"                                                                 \",\n",
      "  \" conv2d_3 (Conv2D)           (None, 61, 61, 64)        18496     \",\n",
      "  \"                                                                 \",\n",
      "  \" max_pooling2d_1 (MaxPoolin  (None, 30, 30, 64)        0         \",\n",
      "  \" g2D)                                                            \",\n",
      "  \"                                                                 \",\n",
      "  \" conv2d_4 (Conv2D)           (None, 28, 28, 128)       73856     \",\n",
      "  \"                                                                 \",\n",
      "  \" max_pooling2d_2 (MaxPoolin  (None, 14, 14, 128)       0         \",\n",
      "  \" g2D)                                                            \",\n",
      "  \"                                                                 \",\n",
      "  \" conv2d_5 (Conv2D)           (None, 12, 12, 128)       147584    \",\n",
      "  \"                                                                 \",\n",
      "  \" max_pooling2d_3 (MaxPoolin  (None, 6, 6, 128)         0         \",\n",
      "  \" g2D)                                                            \",\n",
      "  \"                                                                 \",\n",
      "  \" flatten_1 (Flatten)         (None, 4608)              0         \",\n",
      "  \"                                                                 \",\n",
      "  \" dropout (Dropout)           (None, 4608)              0         \",\n",
      "  \"                                                                 \",\n",
      "  \" dense_11 (Dense)            (None, 512)               2359808   \",\n",
      "  \"                                                                 \",\n",
      "  \" dense_12 (Dense)            (None, 1)                 513       \",\n",
      "  \"                                                                 \",\n",
      "  \"=================================================================\",\n",
      "  \"Total params: 2601153 (9.92 MB)\",\n",
      "  \"Trainable params: 2601153 (9.92 MB)\",\n",
      "  \"Non-trainable params: 0 (0.00 Byte)\",\n",
      "  \"_________________________________________________________________\",\n",
      "  \"\"\n",
      "]\n",
      "\n"
     ]
    }
   ],
   "source": [
    "\"\"\"\n",
    "Provides a textual summary of the currently loaded TensorFlow model's architecture.\n",
    "\n",
    "GET: Returns a JSON array where each element is a string describing a layer in the model's architecture.\n",
    "\n",
    "Example: curl http://127.0.0.1:5001/model/summary\n",
    "\"\"\"\n",
    "url = f'http://127.0.0.1:{port}/model/summary'\n",
    "response = requests.get(url)\n",
    "print(response.text)"
   ]
  },
  {
   "cell_type": "markdown",
   "metadata": {},
   "source": [
    "## Route: /model/predict"
   ]
  },
  {
   "cell_type": "code",
   "execution_count": 42,
   "metadata": {},
   "outputs": [
    {
     "name": "stdout",
     "output_type": "stream",
     "text": [
      "{\n",
      "  \"Outcome\": \"The model is confident that the building that is not damaged.\",\n",
      "  \"result\": [\n",
      "    [\n",
      "      1.5120656726708148e-08\n",
      "    ]\n",
      "  ]\n",
      "}\n",
      "\n"
     ]
    }
   ],
   "source": [
    "'''\n",
    "Classifies an image uploaded by the user as either \"damaged\" or \"not damaged\".\n",
    "\n",
    "POST: Expects a multipart/form-data request with an image file under the key \"image\".\n",
    "Returns a JSON object with the classification result and a qualitative assessment of confidence.\n",
    "\n",
    "Example: curl -X POST -F \"image=@./data/damage/-93.795_30.03779.jpeg\" http://localhost:5001/model/predict\n",
    "'''\n",
    "# damaged\n",
    "#image_path = './data/damage/-97.001019_28.877965999999997.jpeg'\n",
    "\n",
    "# not damaged\n",
    "image_path = './data/no_damage/-95.086_29.827665000000003.jpeg'\n",
    "\n",
    "url = 'http://localhost:5001/model/predict'\n",
    "\n",
    "# Open the image in binary mode\n",
    "with open(image_path, 'rb') as f:\n",
    "    files = {'image': (image_path, f, 'image/jpeg')}\n",
    "    response = requests.post(url, files=files)\n",
    "\n",
    "print(response.text)"
   ]
  },
  {
   "cell_type": "markdown",
   "metadata": {},
   "source": [
    "## Route: /model/change\n",
    "\n",
    "changing to lenet5 (from alt_lenet)"
   ]
  },
  {
   "cell_type": "code",
   "execution_count": 43,
   "metadata": {},
   "outputs": [
    {
     "ename": "JSONDecodeError",
     "evalue": "Expecting value: line 1 column 1 (char 0)",
     "output_type": "error",
     "traceback": [
      "\u001b[0;31m---------------------------------------------------------------------------\u001b[0m",
      "\u001b[0;31mJSONDecodeError\u001b[0m                           Traceback (most recent call last)",
      "File \u001b[0;32m/opt/homebrew/lib/python3.11/site-packages/requests/models.py:971\u001b[0m, in \u001b[0;36mResponse.json\u001b[0;34m(self, **kwargs)\u001b[0m\n\u001b[1;32m    970\u001b[0m \u001b[38;5;28;01mtry\u001b[39;00m:\n\u001b[0;32m--> 971\u001b[0m     \u001b[38;5;28;01mreturn\u001b[39;00m \u001b[43mcomplexjson\u001b[49m\u001b[38;5;241;43m.\u001b[39;49m\u001b[43mloads\u001b[49m\u001b[43m(\u001b[49m\u001b[38;5;28;43mself\u001b[39;49m\u001b[38;5;241;43m.\u001b[39;49m\u001b[43mtext\u001b[49m\u001b[43m,\u001b[49m\u001b[43m \u001b[49m\u001b[38;5;241;43m*\u001b[39;49m\u001b[38;5;241;43m*\u001b[39;49m\u001b[43mkwargs\u001b[49m\u001b[43m)\u001b[49m\n\u001b[1;32m    972\u001b[0m \u001b[38;5;28;01mexcept\u001b[39;00m JSONDecodeError \u001b[38;5;28;01mas\u001b[39;00m e:\n\u001b[1;32m    973\u001b[0m     \u001b[38;5;66;03m# Catch JSON-related errors and raise as requests.JSONDecodeError\u001b[39;00m\n\u001b[1;32m    974\u001b[0m     \u001b[38;5;66;03m# This aliases json.JSONDecodeError and simplejson.JSONDecodeError\u001b[39;00m\n",
      "File \u001b[0;32m/opt/homebrew/Cellar/python@3.11/3.11.6_1/Frameworks/Python.framework/Versions/3.11/lib/python3.11/json/__init__.py:346\u001b[0m, in \u001b[0;36mloads\u001b[0;34m(s, cls, object_hook, parse_float, parse_int, parse_constant, object_pairs_hook, **kw)\u001b[0m\n\u001b[1;32m    343\u001b[0m \u001b[38;5;28;01mif\u001b[39;00m (\u001b[38;5;28mcls\u001b[39m \u001b[38;5;129;01mis\u001b[39;00m \u001b[38;5;28;01mNone\u001b[39;00m \u001b[38;5;129;01mand\u001b[39;00m object_hook \u001b[38;5;129;01mis\u001b[39;00m \u001b[38;5;28;01mNone\u001b[39;00m \u001b[38;5;129;01mand\u001b[39;00m\n\u001b[1;32m    344\u001b[0m         parse_int \u001b[38;5;129;01mis\u001b[39;00m \u001b[38;5;28;01mNone\u001b[39;00m \u001b[38;5;129;01mand\u001b[39;00m parse_float \u001b[38;5;129;01mis\u001b[39;00m \u001b[38;5;28;01mNone\u001b[39;00m \u001b[38;5;129;01mand\u001b[39;00m\n\u001b[1;32m    345\u001b[0m         parse_constant \u001b[38;5;129;01mis\u001b[39;00m \u001b[38;5;28;01mNone\u001b[39;00m \u001b[38;5;129;01mand\u001b[39;00m object_pairs_hook \u001b[38;5;129;01mis\u001b[39;00m \u001b[38;5;28;01mNone\u001b[39;00m \u001b[38;5;129;01mand\u001b[39;00m \u001b[38;5;129;01mnot\u001b[39;00m kw):\n\u001b[0;32m--> 346\u001b[0m     \u001b[38;5;28;01mreturn\u001b[39;00m \u001b[43m_default_decoder\u001b[49m\u001b[38;5;241;43m.\u001b[39;49m\u001b[43mdecode\u001b[49m\u001b[43m(\u001b[49m\u001b[43ms\u001b[49m\u001b[43m)\u001b[49m\n\u001b[1;32m    347\u001b[0m \u001b[38;5;28;01mif\u001b[39;00m \u001b[38;5;28mcls\u001b[39m \u001b[38;5;129;01mis\u001b[39;00m \u001b[38;5;28;01mNone\u001b[39;00m:\n",
      "File \u001b[0;32m/opt/homebrew/Cellar/python@3.11/3.11.6_1/Frameworks/Python.framework/Versions/3.11/lib/python3.11/json/decoder.py:337\u001b[0m, in \u001b[0;36mJSONDecoder.decode\u001b[0;34m(self, s, _w)\u001b[0m\n\u001b[1;32m    333\u001b[0m \u001b[38;5;250m\u001b[39m\u001b[38;5;124;03m\"\"\"Return the Python representation of ``s`` (a ``str`` instance\u001b[39;00m\n\u001b[1;32m    334\u001b[0m \u001b[38;5;124;03mcontaining a JSON document).\u001b[39;00m\n\u001b[1;32m    335\u001b[0m \n\u001b[1;32m    336\u001b[0m \u001b[38;5;124;03m\"\"\"\u001b[39;00m\n\u001b[0;32m--> 337\u001b[0m obj, end \u001b[38;5;241m=\u001b[39m \u001b[38;5;28;43mself\u001b[39;49m\u001b[38;5;241;43m.\u001b[39;49m\u001b[43mraw_decode\u001b[49m\u001b[43m(\u001b[49m\u001b[43ms\u001b[49m\u001b[43m,\u001b[49m\u001b[43m \u001b[49m\u001b[43midx\u001b[49m\u001b[38;5;241;43m=\u001b[39;49m\u001b[43m_w\u001b[49m\u001b[43m(\u001b[49m\u001b[43ms\u001b[49m\u001b[43m,\u001b[49m\u001b[43m \u001b[49m\u001b[38;5;241;43m0\u001b[39;49m\u001b[43m)\u001b[49m\u001b[38;5;241;43m.\u001b[39;49m\u001b[43mend\u001b[49m\u001b[43m(\u001b[49m\u001b[43m)\u001b[49m\u001b[43m)\u001b[49m\n\u001b[1;32m    338\u001b[0m end \u001b[38;5;241m=\u001b[39m _w(s, end)\u001b[38;5;241m.\u001b[39mend()\n",
      "File \u001b[0;32m/opt/homebrew/Cellar/python@3.11/3.11.6_1/Frameworks/Python.framework/Versions/3.11/lib/python3.11/json/decoder.py:355\u001b[0m, in \u001b[0;36mJSONDecoder.raw_decode\u001b[0;34m(self, s, idx)\u001b[0m\n\u001b[1;32m    354\u001b[0m \u001b[38;5;28;01mexcept\u001b[39;00m \u001b[38;5;167;01mStopIteration\u001b[39;00m \u001b[38;5;28;01mas\u001b[39;00m err:\n\u001b[0;32m--> 355\u001b[0m     \u001b[38;5;28;01mraise\u001b[39;00m JSONDecodeError(\u001b[38;5;124m\"\u001b[39m\u001b[38;5;124mExpecting value\u001b[39m\u001b[38;5;124m\"\u001b[39m, s, err\u001b[38;5;241m.\u001b[39mvalue) \u001b[38;5;28;01mfrom\u001b[39;00m \u001b[38;5;28;01mNone\u001b[39;00m\n\u001b[1;32m    356\u001b[0m \u001b[38;5;28;01mreturn\u001b[39;00m obj, end\n",
      "\u001b[0;31mJSONDecodeError\u001b[0m: Expecting value: line 1 column 1 (char 0)",
      "\nDuring handling of the above exception, another exception occurred:\n",
      "\u001b[0;31mJSONDecodeError\u001b[0m                           Traceback (most recent call last)",
      "Cell \u001b[0;32mIn[43], line 13\u001b[0m\n\u001b[1;32m     11\u001b[0m data \u001b[38;5;241m=\u001b[39m {\u001b[38;5;124m'\u001b[39m\u001b[38;5;124mmodel_name\u001b[39m\u001b[38;5;124m'\u001b[39m: \u001b[38;5;124m'\u001b[39m\u001b[38;5;124mlenet5\u001b[39m\u001b[38;5;124m'\u001b[39m}\n\u001b[1;32m     12\u001b[0m response \u001b[38;5;241m=\u001b[39m requests\u001b[38;5;241m.\u001b[39mpost(url, json\u001b[38;5;241m=\u001b[39mdata, headers\u001b[38;5;241m=\u001b[39m{\u001b[38;5;124m'\u001b[39m\u001b[38;5;124mContent-Type\u001b[39m\u001b[38;5;124m'\u001b[39m: \u001b[38;5;124m'\u001b[39m\u001b[38;5;124mapplication/json\u001b[39m\u001b[38;5;124m'\u001b[39m})\n\u001b[0;32m---> 13\u001b[0m \u001b[38;5;28mprint\u001b[39m(\u001b[43mresponse\u001b[49m\u001b[38;5;241;43m.\u001b[39;49m\u001b[43mjson\u001b[49m\u001b[43m(\u001b[49m\u001b[43m)\u001b[49m)\n\u001b[1;32m     15\u001b[0m \u001b[38;5;66;03m# curl -X POST -H \"Content-Type: application/json\" -d '{\"model_name\": \"vgg\"}' http://127.0.0.1:5001/changeModel\u001b[39;00m\n",
      "File \u001b[0;32m/opt/homebrew/lib/python3.11/site-packages/requests/models.py:975\u001b[0m, in \u001b[0;36mResponse.json\u001b[0;34m(self, **kwargs)\u001b[0m\n\u001b[1;32m    971\u001b[0m     \u001b[38;5;28;01mreturn\u001b[39;00m complexjson\u001b[38;5;241m.\u001b[39mloads(\u001b[38;5;28mself\u001b[39m\u001b[38;5;241m.\u001b[39mtext, \u001b[38;5;241m*\u001b[39m\u001b[38;5;241m*\u001b[39mkwargs)\n\u001b[1;32m    972\u001b[0m \u001b[38;5;28;01mexcept\u001b[39;00m JSONDecodeError \u001b[38;5;28;01mas\u001b[39;00m e:\n\u001b[1;32m    973\u001b[0m     \u001b[38;5;66;03m# Catch JSON-related errors and raise as requests.JSONDecodeError\u001b[39;00m\n\u001b[1;32m    974\u001b[0m     \u001b[38;5;66;03m# This aliases json.JSONDecodeError and simplejson.JSONDecodeError\u001b[39;00m\n\u001b[0;32m--> 975\u001b[0m     \u001b[38;5;28;01mraise\u001b[39;00m RequestsJSONDecodeError(e\u001b[38;5;241m.\u001b[39mmsg, e\u001b[38;5;241m.\u001b[39mdoc, e\u001b[38;5;241m.\u001b[39mpos)\n",
      "\u001b[0;31mJSONDecodeError\u001b[0m: Expecting value: line 1 column 1 (char 0)"
     ]
    }
   ],
   "source": [
    "\"\"\"\n",
    "Changes the TensorFlow model used by the server.\n",
    "\n",
    "POST: Expects a JSON object with a key \"model_name\" that specifies the name of the new model to load.\n",
    "Returns a JSON object with a message indicating successful model change and the path to the new model.\n",
    "\n",
    "Example: curl -X POST -H \"Content-Type: application/json\" -d '{\"model_name\": \"vgg\"}' http://127.0.0.1:5001/changeModel\n",
    "\"\"\"\n",
    "\n",
    "url = 'http://127.0.0.1:5001/model/change'\n",
    "data = {'model_name': 'lenet5'}\n",
    "response = requests.post(url, json=data, headers={'Content-Type': 'application/json'})\n",
    "print(response.json())\n",
    "\n",
    "# curl -X POST -H \"Content-Type: application/json\" -d '{\"model_name\": \"vgg\"}' http://127.0.0.1:5001/changeModel"
   ]
  },
  {
   "cell_type": "code",
   "execution_count": null,
   "metadata": {},
   "outputs": [
    {
     "name": "stdout",
     "output_type": "stream",
     "text": [
      "{'description': 'Classify images of houses as damaged or not using the lenet5 tensorflow model.', 'name': 'lenet5', 'non-trainable parameters:': '0', 'total parameters:': '1627961', 'trainable parameters:': '1627961', 'version': 'v1'}\n"
     ]
    }
   ],
   "source": [
    "url = f'http://127.0.0.1:{port}/model/info'\n",
    "response = requests.get(url)\n",
    "print(response.json())"
   ]
  },
  {
   "cell_type": "code",
   "execution_count": null,
   "metadata": {},
   "outputs": [
    {
     "name": "stdout",
     "output_type": "stream",
     "text": [
      "{\n",
      "  \"Outcome\": \"The model is confident that the building that is not damaged.\",\n",
      "  \"result\": [\n",
      "    [\n",
      "      3.212846655387125e-09\n",
      "    ]\n",
      "  ]\n",
      "}\n",
      "\n"
     ]
    }
   ],
   "source": [
    "image_path = './data/no_damage/-95.086_29.827665000000003.jpeg'\n",
    "\n",
    "url = 'http://localhost:5001/model/predict'\n",
    "\n",
    "# Open the image in binary mode\n",
    "with open(image_path, 'rb') as f:\n",
    "    files = {'image': (image_path, f, 'image/jpeg')}\n",
    "    response = requests.post(url, files=files)\n",
    "\n",
    "print(response.text)"
   ]
  },
  {
   "cell_type": "markdown",
   "metadata": {},
   "source": [
    "Note that above, the prediction is different from the first prediction in the /model/predict section with the alt-lenet 5 model. \n",
    "\n",
    "\n",
    "This verifies the model was changed. We can also change to Vgg, Resnet, and Ann models"
   ]
  },
  {
   "cell_type": "markdown",
   "metadata": {},
   "source": [
    "### VGG16:"
   ]
  },
  {
   "cell_type": "code",
   "execution_count": null,
   "metadata": {},
   "outputs": [
    {
     "name": "stdout",
     "output_type": "stream",
     "text": [
      "{'message': 'Model changed to vgg successfully', 'model_path': 'models/vgg.keras'}\n",
      "{'description': 'Classify images of houses as damaged or not using the vgg tensorflow model.', 'name': 'vgg', 'non-trainable parameters:': '14714688', 'total parameters:': '19077889', 'trainable parameters:': '4363201', 'version': 'v1'}\n",
      "{\n",
      "  \"Outcome\": \"The model is confident that the building that is not damaged.\",\n",
      "  \"result\": [\n",
      "    [\n",
      "      0.00027580480673350394\n",
      "    ]\n",
      "  ]\n",
      "}\n",
      "\n"
     ]
    }
   ],
   "source": [
    "url = 'http://127.0.0.1:5001/changeModel'\n",
    "data = {'model_name': 'vgg'}\n",
    "response = requests.post(url, json=data, headers={'Content-Type': 'application/json'})\n",
    "print(response.json())\n",
    "\n",
    "url = f'http://127.0.0.1:{port}/model/info'\n",
    "response = requests.get(url)\n",
    "print(response.json())\n",
    "\n",
    "image_path = './data/no_damage/-95.086_29.827665000000003.jpeg'\n",
    "url = 'http://localhost:5001/model/predict'\n",
    "\n",
    "# Open the image in binary mode\n",
    "with open(image_path, 'rb') as f:\n",
    "    files = {'image': (image_path, f, 'image/jpeg')}\n",
    "    response = requests.post(url, files=files)\n",
    "\n",
    "print(response.text)\n"
   ]
  },
  {
   "cell_type": "markdown",
   "metadata": {},
   "source": [
    "### Resnet:"
   ]
  },
  {
   "cell_type": "code",
   "execution_count": null,
   "metadata": {},
   "outputs": [
    {
     "name": "stdout",
     "output_type": "stream",
     "text": [
      "{'message': 'Model changed to resnet successfully', 'model_path': 'models/resnet.keras'}\n",
      "{'description': 'Classify images of houses as damaged or not using the resnet tensorflow model.', 'name': 'resnet', 'non-trainable parameters:': '23587712', 'total parameters:': '32017793', 'trainable parameters:': '8430081', 'version': 'v1'}\n",
      "{\n",
      "  \"Outcome\": \"The model is somewhat confident that the building that is not damaged.\",\n",
      "  \"result\": [\n",
      "    [\n",
      "      0.37587276101112366\n",
      "    ]\n",
      "  ]\n",
      "}\n",
      "\n"
     ]
    }
   ],
   "source": [
    "url = 'http://127.0.0.1:5001/changeModel'\n",
    "data = {'model_name': 'resnet'}\n",
    "response = requests.post(url, json=data, headers={'Content-Type': 'application/json'})\n",
    "print(response.json())\n",
    "\n",
    "url = f'http://127.0.0.1:{port}/model/info'\n",
    "response = requests.get(url)\n",
    "print(response.json())\n",
    "\n",
    "image_path = './data/no_damage/-95.086_29.827665000000003.jpeg'\n",
    "url = 'http://localhost:5001/model/predict'\n",
    "\n",
    "# Open the image in binary mode\n",
    "with open(image_path, 'rb') as f:\n",
    "    files = {'image': (image_path, f, 'image/jpeg')}\n",
    "    response = requests.post(url, files=files)\n",
    "\n",
    "print(response.text)\n"
   ]
  },
  {
   "cell_type": "markdown",
   "metadata": {},
   "source": [
    "### ANN"
   ]
  },
  {
   "cell_type": "code",
   "execution_count": null,
   "metadata": {},
   "outputs": [
    {
     "name": "stdout",
     "output_type": "stream",
     "text": [
      "{'message': 'Model changed to Ann successfully', 'model_path': 'models/Ann.keras'}\n",
      "{'description': 'Classify images of houses as damaged or not using the Ann tensorflow model.', 'name': 'Ann', 'non-trainable parameters:': '0', 'total parameters:': '51247237', 'trainable parameters:': '51247237', 'version': 'v1'}\n",
      "{\n",
      "  \"Outcome\": \"The model is somewhat confident that the building that is not damaged.\",\n",
      "  \"result\": [\n",
      "    [\n",
      "      0.2968491315841675\n",
      "    ]\n",
      "  ]\n",
      "}\n",
      "\n"
     ]
    }
   ],
   "source": [
    "url = 'http://127.0.0.1:5001/changeModel'\n",
    "data = {'model_name': 'Ann'}\n",
    "response = requests.post(url, json=data, headers={'Content-Type': 'application/json'})\n",
    "print(response.json())\n",
    "\n",
    "url = f'http://127.0.0.1:{port}/model/info'\n",
    "response = requests.get(url)\n",
    "print(response.json())\n",
    "\n",
    "image_path = './data/no_damage/-95.086_29.827665000000003.jpeg'\n",
    "url = 'http://localhost:5001/model/predict'\n",
    "\n",
    "# Open the image in binary mode\n",
    "with open(image_path, 'rb') as f:\n",
    "    files = {'image': (image_path, f, 'image/jpeg')}\n",
    "    response = requests.post(url, files=files)\n",
    "\n",
    "print(response.text)\n"
   ]
  },
  {
   "cell_type": "markdown",
   "metadata": {},
   "source": [
    "### Xception"
   ]
  },
  {
   "cell_type": "code",
   "execution_count": null,
   "metadata": {},
   "outputs": [
    {
     "name": "stdout",
     "output_type": "stream",
     "text": [
      "{'message': 'Model changed to xception successfully', 'model_path': 'models/xception.keras'}\n",
      "{'description': 'Classify images of houses as damaged or not using the xception tensorflow model.', 'name': 'xception', 'non-trainable parameters:': '22910480', 'total parameters:': '23055249', 'trainable parameters:': '144769', 'version': 'v1'}\n",
      "{\n",
      "  \"Outcome\": \"The model is confident that the building that is not damaged.\",\n",
      "  \"result\": [\n",
      "    [\n",
      "      0.02906452678143978\n",
      "    ]\n",
      "  ]\n",
      "}\n",
      "\n"
     ]
    }
   ],
   "source": [
    "url = 'http://127.0.0.1:5001/changeModel'\n",
    "data = {'model_name': 'xception'}\n",
    "response = requests.post(url, json=data, headers={'Content-Type': 'application/json'})\n",
    "print(response.json())\n",
    "\n",
    "url = f'http://127.0.0.1:{port}/model/info'\n",
    "response = requests.get(url)\n",
    "print(response.json())\n",
    "\n",
    "image_path = './data/no_damage/-95.086_29.827665000000003.jpeg'\n",
    "url = 'http://localhost:5001/model/predict'\n",
    "\n",
    "# Open the image in binary mode\n",
    "with open(image_path, 'rb') as f:\n",
    "    files = {'image': (image_path, f, 'image/jpeg')}\n",
    "    response = requests.post(url, files=files)\n",
    "\n",
    "print(response.text)"
   ]
  },
  {
   "cell_type": "code",
   "execution_count": null,
   "metadata": {},
   "outputs": [],
   "source": []
  }
 ],
 "metadata": {
  "kernelspec": {
   "display_name": "Python 3",
   "language": "python",
   "name": "python3"
  },
  "language_info": {
   "codemirror_mode": {
    "name": "ipython",
    "version": 3
   },
   "file_extension": ".py",
   "mimetype": "text/x-python",
   "name": "python",
   "nbconvert_exporter": "python",
   "pygments_lexer": "ipython3",
   "version": "3.11.6"
  }
 },
 "nbformat": 4,
 "nbformat_minor": 2
}
