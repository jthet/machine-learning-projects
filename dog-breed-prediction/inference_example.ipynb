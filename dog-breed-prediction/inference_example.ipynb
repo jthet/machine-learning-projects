{
 "cells": [
  {
   "cell_type": "markdown",
   "metadata": {},
   "source": [
    "# Testing the API"
   ]
  },
  {
   "cell_type": "code",
   "execution_count": null,
   "metadata": {},
   "outputs": [],
   "source": [
    "import requests\n",
    "port = 5000\n",
    "# Note: Sometimes I use port 5001 locally, but flask is typically 5000 ^ set your port with the variable above\n",
    "\n",
    "###### To Use:\n",
    "# docker pull jthet/hurricane-prediction:latest\n",
    "# docker run -p 5000:5000 -it --rm jthet/hurricane-prediction:latest\n",
    "\n",
    "# Inference server must be running to execute the requests."
   ]
  },
  {
   "cell_type": "markdown",
   "metadata": {},
   "source": [
    "### Route: /help"
   ]
  },
  {
   "cell_type": "code",
   "execution_count": 5,
   "metadata": {},
   "outputs": [
    {
     "name": "stdout",
     "output_type": "stream",
     "text": [
      "{\n",
      "  \"/model/change\": {\n",
      "    \"description\": \"Changes the TensorFlow model used by the server.\",\n",
      "    \"example\": \"curl -X POST -H 'Content-Type: application/json' -d '{\\\"model_name\\\": \\\"vgg\\\"}' http://127.0.0.1:5001/model/change\",\n",
      "    \"method\": \"POST\"\n",
      "  },\n",
      "  \"/model/info\": {\n",
      "    \"description\": \"Provides basic information about the currently loaded TensorFlow model.\",\n",
      "    \"example\": \"curl http://127.0.0.1:5001/model/info\",\n",
      "    \"method\": \"GET\"\n",
      "  },\n",
      "  \"/model/models\": {\n",
      "    \"description\": \"Lists the available TensorFlow models that users can switch to.\",\n",
      "    \"example\": \"curl http://127.0.0.1:5001/model/models\",\n",
      "    \"method\": \"GET\"\n",
      "  },\n",
      "  \"/model/predict\": {\n",
      "    \"description\": \"Classifies an image uploaded by the user as either 'damaged' or 'not damaged'.\",\n",
      "    \"example\": \"curl -X POST -F 'image=@./data/damage/-93.795_30.03779.jpeg' http://localhost:5001/model/predict\",\n",
      "    \"method\": \"POST\"\n",
      "  },\n",
      "  \"/model/summary\": {\n",
      "    \"description\": \"Provides a textual summary of the currently loaded TensorFlow model's architecture.\",\n",
      "    \"example\": \"curl http://127.0.0.1:5001/model/summary\",\n",
      "    \"method\": \"GET\"\n",
      "  }\n",
      "}\n",
      "\n"
     ]
    }
   ],
   "source": [
    "'''\n",
    "Provides an overview and usage examples for the available API endpoints.\n",
    "\n",
    "Example: curl http://127.0.0.1:5000/help\n",
    "'''\n",
    "url = f'http://127.0.0.1:{port}/help'\n",
    "response = requests.get(url)\n",
    "print(response.text)"
   ]
  },
  {
   "cell_type": "markdown",
   "metadata": {},
   "source": [
    "## Route: /model/info"
   ]
  },
  {
   "cell_type": "code",
   "execution_count": 6,
   "metadata": {},
   "outputs": [
    {
     "name": "stdout",
     "output_type": "stream",
     "text": [
      "{'description': 'Classify images of houses as damaged or not using the alt_lenet tensorflow model.', 'name': 'alt_lenet', 'non-trainable parameters:': '0', 'total parameters:': '2601153', 'trainable parameters:': '2601153', 'version': 'v1'}\n"
     ]
    }
   ],
   "source": [
    "'''\n",
    "Provides basic information about the currently loaded TensorFlow model.\n",
    "\n",
    "GET: Returns a JSON object with the model's version, name, description,\n",
    "total number of parameters, number of trainable parameters, and number of non-trainable parameters.\n",
    "\n",
    "Example: curl http://127.0.0.1:5000/model/info\n",
    "'''\n",
    "url = f'http://127.0.0.1:{port}/model/info'\n",
    "response = requests.get(url)\n",
    "print(response.json())"
   ]
  },
  {
   "cell_type": "markdown",
   "metadata": {},
   "source": [
    "## Route: /model/models"
   ]
  },
  {
   "cell_type": "code",
   "execution_count": 7,
   "metadata": {},
   "outputs": [
    {
     "name": "stdout",
     "output_type": "stream",
     "text": [
      "{'available_models': ['vgg', 'resnet', 'xception', 'ann', 'lenet5', 'alt_lenet'], 'currently_loaded': 'alt_lenet', 'default_model': 'alt_lenet', 'note': 'alt_lenet is the default model loaded in and is the most accurate.'}\n"
     ]
    }
   ],
   "source": [
    "\"\"\"\n",
    "Lists the available TensorFlow models that users can switch to.\n",
    "\n",
    "GET: Returns a JSON object listing all available models and indicating the default model.\n",
    "\n",
    "Example: curl http://127.0.0.1:5000/model/models\n",
    "\"\"\"\n",
    "url = f'http://127.0.0.1:{port}/model/models'\n",
    "response = requests.get(url)\n",
    "print(response.json())"
   ]
  },
  {
   "cell_type": "markdown",
   "metadata": {},
   "source": [
    "## Route: /model/summary"
   ]
  },
  {
   "cell_type": "code",
   "execution_count": 13,
   "metadata": {},
   "outputs": [
    {
     "name": "stdout",
     "output_type": "stream",
     "text": [
      "[\n",
      "  \"Model: \\\"sequential_2\\\"\",\n",
      "  \"_________________________________________________________________\",\n",
      "  \" Layer (type)                Output Shape              Param #   \",\n",
      "  \"=================================================================\",\n",
      "  \" conv2d_2 (Conv2D)           (None, 126, 126, 32)      896       \",\n",
      "  \"                                                                 \",\n",
      "  \" max_pooling2d (MaxPooling2  (None, 63, 63, 32)        0         \",\n",
      "  \" D)                                                              \",\n",
      "  \"                                                                 \",\n",
      "  \" conv2d_3 (Conv2D)           (None, 61, 61, 64)        18496     \",\n",
      "  \"                                                                 \",\n",
      "  \" max_pooling2d_1 (MaxPoolin  (None, 30, 30, 64)        0         \",\n",
      "  \" g2D)                                                            \",\n",
      "  \"                                                                 \",\n",
      "  \" conv2d_4 (Conv2D)           (None, 28, 28, 128)       73856     \",\n",
      "  \"                                                                 \",\n",
      "  \" max_pooling2d_2 (MaxPoolin  (None, 14, 14, 128)       0         \",\n",
      "  \" g2D)                                                            \",\n",
      "  \"                                                                 \",\n",
      "  \" conv2d_5 (Conv2D)           (None, 12, 12, 128)       147584    \",\n",
      "  \"                                                                 \",\n",
      "  \" max_pooling2d_3 (MaxPoolin  (None, 6, 6, 128)         0         \",\n",
      "  \" g2D)                                                            \",\n",
      "  \"                                                                 \",\n",
      "  \" flatten_1 (Flatten)         (None, 4608)              0         \",\n",
      "  \"                                                                 \",\n",
      "  \" dropout (Dropout)           (None, 4608)              0         \",\n",
      "  \"                                                                 \",\n",
      "  \" dense_11 (Dense)            (None, 512)               2359808   \",\n",
      "  \"                                                                 \",\n",
      "  \" dense_12 (Dense)            (None, 1)                 513       \",\n",
      "  \"                                                                 \",\n",
      "  \"=================================================================\",\n",
      "  \"Total params: 2601153 (9.92 MB)\",\n",
      "  \"Trainable params: 2601153 (9.92 MB)\",\n",
      "  \"Non-trainable params: 0 (0.00 Byte)\",\n",
      "  \"_________________________________________________________________\",\n",
      "  \"\"\n",
      "]\n",
      "\n"
     ]
    }
   ],
   "source": [
    "\"\"\"\n",
    "Provides a textual summary of the currently loaded TensorFlow model's architecture.\n",
    "\n",
    "GET: Returns a JSON array where each element is a string describing a layer in the model's architecture.\n",
    "\n",
    "Example: curl http://127.0.0.1:5000/model/summary\n",
    "\"\"\"\n",
    "url = f'http://127.0.0.1:{port}/model/summary'\n",
    "response = requests.get(url)\n",
    "print(response.text)"
   ]
  },
  {
   "cell_type": "markdown",
   "metadata": {},
   "source": [
    "## Route: /model/predict"
   ]
  },
  {
   "cell_type": "code",
   "execution_count": 31,
   "metadata": {},
   "outputs": [
    {
     "name": "stdout",
     "output_type": "stream",
     "text": [
      "{\n",
      "  \"Outcome\": \"The model is confident that the building that is not damaged.\",\n",
      "  \"result\": [\n",
      "    [\n",
      "      1.5120656726708148e-08\n",
      "    ]\n",
      "  ]\n",
      "}\n",
      "\n"
     ]
    }
   ],
   "source": [
    "'''\n",
    "Classifies an image of a dog by the dog's breed.\n",
    "\n",
    "POST: Expects a multipart/form-data request with an image file under the key \"image\".\n",
    "Returns a JSON object with the classification result and a qualitative assessment of confidence.\n",
    "\n",
    "Example: curl -X POST -F \"image=@./data/damage/-93.795_30.03779.jpeg\" http://localhost:5001/model/predict\n",
    "'''\n",
    "# damaged\n",
    "#image_path = './data/images/affenpinscher-1.jpg'\n",
    "\n",
    "# not damaged\n",
    "image_path = './data/images/affenpinscher-1.jpg'\n",
    "\n",
    "url = f'http://127.0.0.1:{port}/model/predict'\n",
    "\n",
    "# Open the image in binary mode\n",
    "with open(image_path, 'rb') as f:\n",
    "    files = {'image': (image_path, f, 'image/jpeg')}\n",
    "    response = requests.post(url, files=files)\n",
    "\n",
    "print(response.text)"
   ]
  },
  {
   "cell_type": "markdown",
   "metadata": {},
   "source": [
    "## Route: /model/change\n",
    "\n",
    "changing to lenet5 (from alt_lenet)"
   ]
  },
  {
   "cell_type": "code",
   "execution_count": 38,
   "metadata": {},
   "outputs": [
    {
     "name": "stdout",
     "output_type": "stream",
     "text": [
      "{\n",
      "  \"message\": \"Model changed to lenet5 successfully\",\n",
      "  \"model_path\": \"models/lenet5.keras\"\n",
      "}\n",
      "\n"
     ]
    }
   ],
   "source": [
    "\"\"\"\n",
    "Changes the TensorFlow model used by the server.\n",
    "\n",
    "POST: Expects a JSON object with a key \"model_name\" that specifies the name of the new model to load.\n",
    "Returns a JSON object with a message indicating successful model change and the path to the new model.\n",
    "\n",
    "Example: curl -X POST -H 'Content-Type: application/json' -d '{\"model_name\": \"inception\"}' http://127.0.0.1:5000/model/change\n",
    "\"\"\"\n",
    "\n",
    "url = f'http://127.0.0.1:{port}/model/change'\n",
    "data = {'model_name': 'inception'}\n",
    "response = requests.post(url, json=data, headers={'Content-Type': 'application/json'})\n",
    "print(response.text)"
   ]
  },
  {
   "cell_type": "code",
   "execution_count": 39,
   "metadata": {},
   "outputs": [
    {
     "name": "stdout",
     "output_type": "stream",
     "text": [
      "{'description': 'Classify images of houses as damaged or not using the lenet5 tensorflow model.', 'name': 'lenet5', 'non-trainable parameters:': '0', 'total parameters:': '1627961', 'trainable parameters:': '1627961', 'version': 'v1'}\n"
     ]
    }
   ],
   "source": [
    "url = f'http://127.0.0.1:{port}/model/info'\n",
    "response = requests.get(url)\n",
    "print(response.json())"
   ]
  },
  {
   "cell_type": "code",
   "execution_count": 41,
   "metadata": {},
   "outputs": [
    {
     "name": "stdout",
     "output_type": "stream",
     "text": [
      "{\n",
      "  \"Outcome\": \"The model is confident that the building that is not damaged.\",\n",
      "  \"result\": [\n",
      "    [\n",
      "      3.212846655387125e-09\n",
      "    ]\n",
      "  ]\n",
      "}\n",
      "\n"
     ]
    }
   ],
   "source": [
    "image_path = './data/images/Airedale-1.jpg'\n",
    "\n",
    "url = f'http://localhost:{port}/model/predict'\n",
    "\n",
    "# Open the image in binary mode\n",
    "with open(image_path, 'rb') as f:\n",
    "    files = {'image': (image_path, f, 'image/jpeg')}\n",
    "    response = requests.post(url, files=files)\n",
    "\n",
    "print(response.text)"
   ]
  },
  {
   "cell_type": "markdown",
   "metadata": {},
   "source": [
    "Note that above, the prediction is different from the first prediction in the /model/predict section with the alt-lenet 5 model. \n",
    "\n",
    "\n",
    "This verifies the model was changed. We can also change to Vgg, Resnet, and Ann models"
   ]
  },
  {
   "cell_type": "markdown",
   "metadata": {},
   "source": [
    "### VGG16:"
   ]
  },
  {
   "cell_type": "code",
   "execution_count": 47,
   "metadata": {},
   "outputs": [
    {
     "name": "stdout",
     "output_type": "stream",
     "text": [
      "{'message': 'Model changed to vgg successfully', 'model_path': 'models/vgg.keras'}\n",
      "{'description': 'Classify images of houses as damaged or not using the vgg tensorflow model.', 'name': 'vgg', 'non-trainable parameters:': '14714688', 'total parameters:': '19077889', 'trainable parameters:': '4363201', 'version': 'v1'}\n",
      "{\n",
      "  \"Outcome\": \"The model is confident that the building that is not damaged.\",\n",
      "  \"result\": [\n",
      "    [\n",
      "      0.00027580480673350394\n",
      "    ]\n",
      "  ]\n",
      "}\n",
      "\n"
     ]
    }
   ],
   "source": [
    "url = f'http://127.0.0.1:{port}/model/change'\n",
    "data = {'model_name': 'vgg16'}\n",
    "response = requests.post(url, json=data, headers={'Content-Type': 'application/json'})\n",
    "print(response.json())\n",
    "\n",
    "url = f'http://127.0.0.1:{port}/model/info'\n",
    "response = requests.get(url)\n",
    "print(response.json())\n",
    "\n",
    "image_path = './data/images/Airedale-1.jpg'\n",
    "url = f'http://localhost:{port}/model/predict'\n",
    "\n",
    "# Open the image in binary mode\n",
    "with open(image_path, 'rb') as f:\n",
    "    files = {'image': (image_path, f, 'image/jpeg')}\n",
    "    response = requests.post(url, files=files)\n",
    "\n",
    "print(response.text)\n"
   ]
  }
 ],
 "metadata": {
  "kernelspec": {
   "display_name": "Python 3",
   "language": "python",
   "name": "python3"
  },
  "language_info": {
   "codemirror_mode": {
    "name": "ipython",
    "version": 3
   },
   "file_extension": ".py",
   "mimetype": "text/x-python",
   "name": "python",
   "nbconvert_exporter": "python",
   "pygments_lexer": "ipython3",
   "version": "3.11.6"
  }
 },
 "nbformat": 4,
 "nbformat_minor": 2
}
