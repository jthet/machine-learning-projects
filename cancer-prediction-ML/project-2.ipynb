{
 "cells": [
  {
   "cell_type": "code",
   "execution_count": 40,
   "metadata": {},
   "outputs": [],
   "source": [
    "import pandas as pd\n",
    "import numpy as np"
   ]
  },
  {
   "cell_type": "markdown",
   "metadata": {},
   "source": [
    "# Data Preprocessing and Visualization"
   ]
  },
  {
   "cell_type": "code",
   "execution_count": 41,
   "metadata": {},
   "outputs": [],
   "source": [
    "data = pd.read_csv(\"project2.data\")\n",
    "data_original = pd.read_csv(\"project2-original.data\")"
   ]
  },
  {
   "cell_type": "code",
   "execution_count": 42,
   "metadata": {},
   "outputs": [
    {
     "data": {
      "text/html": [
       "<div>\n",
       "<style scoped>\n",
       "    .dataframe tbody tr th:only-of-type {\n",
       "        vertical-align: middle;\n",
       "    }\n",
       "\n",
       "    .dataframe tbody tr th {\n",
       "        vertical-align: top;\n",
       "    }\n",
       "\n",
       "    .dataframe thead th {\n",
       "        text-align: right;\n",
       "    }\n",
       "</style>\n",
       "<table border=\"1\" class=\"dataframe\">\n",
       "  <thead>\n",
       "    <tr style=\"text-align: right;\">\n",
       "      <th></th>\n",
       "      <th>class</th>\n",
       "      <th>age</th>\n",
       "      <th>menopause</th>\n",
       "      <th>tumor-size</th>\n",
       "      <th>inv-nodes</th>\n",
       "      <th>node-caps</th>\n",
       "      <th>deg-malig</th>\n",
       "      <th>breast</th>\n",
       "      <th>breast-quad</th>\n",
       "      <th>irradiat</th>\n",
       "    </tr>\n",
       "  </thead>\n",
       "  <tbody>\n",
       "    <tr>\n",
       "      <th>0</th>\n",
       "      <td>no-recurrence-events</td>\n",
       "      <td>30-39</td>\n",
       "      <td>premeno</td>\n",
       "      <td>30-34</td>\n",
       "      <td>0-2</td>\n",
       "      <td>no</td>\n",
       "      <td>3</td>\n",
       "      <td>left</td>\n",
       "      <td>left_low</td>\n",
       "      <td>no</td>\n",
       "    </tr>\n",
       "    <tr>\n",
       "      <th>1</th>\n",
       "      <td>no-recurrence-events</td>\n",
       "      <td>40-49</td>\n",
       "      <td>premeno</td>\n",
       "      <td>20-24</td>\n",
       "      <td>0-2</td>\n",
       "      <td>no</td>\n",
       "      <td>2</td>\n",
       "      <td>right</td>\n",
       "      <td>right_up</td>\n",
       "      <td>no</td>\n",
       "    </tr>\n",
       "    <tr>\n",
       "      <th>2</th>\n",
       "      <td>no-recurrence-events</td>\n",
       "      <td>40-49</td>\n",
       "      <td>premeno</td>\n",
       "      <td>20-24</td>\n",
       "      <td>0-2</td>\n",
       "      <td>no</td>\n",
       "      <td>2</td>\n",
       "      <td>left</td>\n",
       "      <td>left_low</td>\n",
       "      <td>no</td>\n",
       "    </tr>\n",
       "    <tr>\n",
       "      <th>3</th>\n",
       "      <td>no-recurrence-events</td>\n",
       "      <td>60-69</td>\n",
       "      <td>ge40</td>\n",
       "      <td>15-19</td>\n",
       "      <td>0-2</td>\n",
       "      <td>no</td>\n",
       "      <td>2</td>\n",
       "      <td>right</td>\n",
       "      <td>left_up</td>\n",
       "      <td>no</td>\n",
       "    </tr>\n",
       "    <tr>\n",
       "      <th>4</th>\n",
       "      <td>no-recurrence-events</td>\n",
       "      <td>40-49</td>\n",
       "      <td>premeno</td>\n",
       "      <td>0-4</td>\n",
       "      <td>0-2</td>\n",
       "      <td>no</td>\n",
       "      <td>2</td>\n",
       "      <td>right</td>\n",
       "      <td>right_low</td>\n",
       "      <td>no</td>\n",
       "    </tr>\n",
       "    <tr>\n",
       "      <th>...</th>\n",
       "      <td>...</td>\n",
       "      <td>...</td>\n",
       "      <td>...</td>\n",
       "      <td>...</td>\n",
       "      <td>...</td>\n",
       "      <td>...</td>\n",
       "      <td>...</td>\n",
       "      <td>...</td>\n",
       "      <td>...</td>\n",
       "      <td>...</td>\n",
       "    </tr>\n",
       "    <tr>\n",
       "      <th>281</th>\n",
       "      <td>recurrence-events</td>\n",
       "      <td>30-39</td>\n",
       "      <td>premeno</td>\n",
       "      <td>30-34</td>\n",
       "      <td>0-2</td>\n",
       "      <td>no</td>\n",
       "      <td>2</td>\n",
       "      <td>left</td>\n",
       "      <td>left_up</td>\n",
       "      <td>no</td>\n",
       "    </tr>\n",
       "    <tr>\n",
       "      <th>282</th>\n",
       "      <td>recurrence-events</td>\n",
       "      <td>30-39</td>\n",
       "      <td>premeno</td>\n",
       "      <td>20-24</td>\n",
       "      <td>0-2</td>\n",
       "      <td>no</td>\n",
       "      <td>3</td>\n",
       "      <td>left</td>\n",
       "      <td>left_up</td>\n",
       "      <td>yes</td>\n",
       "    </tr>\n",
       "    <tr>\n",
       "      <th>283</th>\n",
       "      <td>recurrence-events</td>\n",
       "      <td>60-69</td>\n",
       "      <td>ge40</td>\n",
       "      <td>20-24</td>\n",
       "      <td>0-2</td>\n",
       "      <td>no</td>\n",
       "      <td>1</td>\n",
       "      <td>right</td>\n",
       "      <td>left_up</td>\n",
       "      <td>no</td>\n",
       "    </tr>\n",
       "    <tr>\n",
       "      <th>284</th>\n",
       "      <td>recurrence-events</td>\n",
       "      <td>40-49</td>\n",
       "      <td>ge40</td>\n",
       "      <td>30-34</td>\n",
       "      <td>3-5</td>\n",
       "      <td>no</td>\n",
       "      <td>3</td>\n",
       "      <td>left</td>\n",
       "      <td>left_low</td>\n",
       "      <td>no</td>\n",
       "    </tr>\n",
       "    <tr>\n",
       "      <th>285</th>\n",
       "      <td>recurrence-events</td>\n",
       "      <td>50-59</td>\n",
       "      <td>ge40</td>\n",
       "      <td>30-34</td>\n",
       "      <td>3-5</td>\n",
       "      <td>no</td>\n",
       "      <td>3</td>\n",
       "      <td>left</td>\n",
       "      <td>left_low</td>\n",
       "      <td>no</td>\n",
       "    </tr>\n",
       "  </tbody>\n",
       "</table>\n",
       "<p>286 rows × 10 columns</p>\n",
       "</div>"
      ],
      "text/plain": [
       "                    class    age menopause tumor-size inv-nodes node-caps  \\\n",
       "0    no-recurrence-events  30-39   premeno      30-34       0-2        no   \n",
       "1    no-recurrence-events  40-49   premeno      20-24       0-2        no   \n",
       "2    no-recurrence-events  40-49   premeno      20-24       0-2        no   \n",
       "3    no-recurrence-events  60-69      ge40      15-19       0-2        no   \n",
       "4    no-recurrence-events  40-49   premeno        0-4       0-2        no   \n",
       "..                    ...    ...       ...        ...       ...       ...   \n",
       "281     recurrence-events  30-39   premeno      30-34       0-2        no   \n",
       "282     recurrence-events  30-39   premeno      20-24       0-2        no   \n",
       "283     recurrence-events  60-69      ge40      20-24       0-2        no   \n",
       "284     recurrence-events  40-49      ge40      30-34       3-5        no   \n",
       "285     recurrence-events  50-59      ge40      30-34       3-5        no   \n",
       "\n",
       "     deg-malig breast breast-quad irradiat  \n",
       "0            3   left    left_low       no  \n",
       "1            2  right    right_up       no  \n",
       "2            2   left    left_low       no  \n",
       "3            2  right     left_up       no  \n",
       "4            2  right   right_low       no  \n",
       "..         ...    ...         ...      ...  \n",
       "281          2   left     left_up       no  \n",
       "282          3   left     left_up      yes  \n",
       "283          1  right     left_up       no  \n",
       "284          3   left    left_low       no  \n",
       "285          3   left    left_low       no  \n",
       "\n",
       "[286 rows x 10 columns]"
      ]
     },
     "execution_count": 42,
     "metadata": {},
     "output_type": "execute_result"
    }
   ],
   "source": [
    "# Raw data\n",
    "data"
   ]
  },
  {
   "cell_type": "code",
   "execution_count": 43,
   "metadata": {},
   "outputs": [
    {
     "name": "stdout",
     "output_type": "stream",
     "text": [
      "Size:  2860\n",
      "Shape:  (286, 10)\n"
     ]
    }
   ],
   "source": [
    "# Identify shape, size of the raw data\n",
    "print(\"Size: \", data.size)\n",
    "print(\"Shape: \", data.shape)"
   ]
  },
  {
   "cell_type": "code",
   "execution_count": 44,
   "metadata": {},
   "outputs": [
    {
     "name": "stdout",
     "output_type": "stream",
     "text": [
      "<class 'pandas.core.frame.DataFrame'>\n",
      "RangeIndex: 286 entries, 0 to 285\n",
      "Data columns (total 10 columns):\n",
      " #   Column       Non-Null Count  Dtype \n",
      "---  ------       --------------  ----- \n",
      " 0   class        286 non-null    object\n",
      " 1   age          286 non-null    object\n",
      " 2   menopause    286 non-null    object\n",
      " 3   tumor-size   286 non-null    object\n",
      " 4   inv-nodes    286 non-null    object\n",
      " 5   node-caps    286 non-null    object\n",
      " 6   deg-malig    286 non-null    int64 \n",
      " 7   breast       286 non-null    object\n",
      " 8   breast-quad  286 non-null    object\n",
      " 9   irradiat     286 non-null    object\n",
      "dtypes: int64(1), object(9)\n",
      "memory usage: 22.5+ KB\n"
     ]
    }
   ],
   "source": [
    "# Get information about datatypes. Comment if any of the variables need datatype conversion\n",
    "data.info()"
   ]
  },
  {
   "cell_type": "markdown",
   "metadata": {},
   "source": [
    "## Data Preprocessing\n",
    "The data sets consists of 10 categories. 9 are of the data type \"object\" and one is of type int. All the object typed columns will need to be converted to other data types. Looking at the data, the \"node-caps\" and \"irradiat\" seem to be pure yes/no booleans, whereas \"class\", \"menopause\", \"breast\", and \"breast-quad\" seem to be categorical variables with no clear heirarchy. The other variables, \"age\", \"tumor-size\", \"inv-node\", and \"deg-malig\" are given as catergorical variables, however represent numerical values and hold certain heirarchical meaning in their quantitative values. This is somewhat troublesome however as the age, tumor size, and inv-node are all given as ranges such as \"30-39\" for age, rather than an exact age. Having an integer value for age rather than a range would make this type conversion much easier. This will be further investigated. "
   ]
  },
  {
   "cell_type": "code",
   "execution_count": 45,
   "metadata": {},
   "outputs": [
    {
     "data": {
      "text/plain": [
       "14"
      ]
     },
     "execution_count": 45,
     "metadata": {},
     "output_type": "execute_result"
    }
   ],
   "source": [
    "data.duplicated().sum() # there are 14 duplicated entries\n"
   ]
  },
  {
   "cell_type": "code",
   "execution_count": 46,
   "metadata": {},
   "outputs": [],
   "source": [
    "data.drop_duplicates(inplace=True, ignore_index=True)"
   ]
  },
  {
   "cell_type": "code",
   "execution_count": 47,
   "metadata": {},
   "outputs": [
    {
     "data": {
      "text/plain": [
       "0"
      ]
     },
     "execution_count": 47,
     "metadata": {},
     "output_type": "execute_result"
    }
   ],
   "source": [
    "data.duplicated().sum() # no more duplicated values!"
   ]
  },
  {
   "cell_type": "code",
   "execution_count": 48,
   "metadata": {},
   "outputs": [
    {
     "name": "stdout",
     "output_type": "stream",
     "text": [
      "Unique values:  ['no-recurrence-events' 'recurrence-events']\n",
      "total # of null values 0\n",
      "\n",
      "Summary of Class attribute:\n"
     ]
    },
    {
     "data": {
      "text/plain": [
       "count                      272\n",
       "unique                       2\n",
       "top       no-recurrence-events\n",
       "freq                       191\n",
       "Name: class, dtype: object"
      ]
     },
     "execution_count": 48,
     "metadata": {},
     "output_type": "execute_result"
    }
   ],
   "source": [
    "# Data analysis, Preprocessing \n",
    "# Class attribute\n",
    "print(\"Unique values: \", data[\"class\"].unique())\n",
    "print(\"total # of null values\", data[\"class\"].isnull().sum())\n",
    "print(\"\\nSummary of Class attribute:\")\n",
    "data[\"class\"].describe()\n"
   ]
  },
  {
   "cell_type": "code",
   "execution_count": 49,
   "metadata": {},
   "outputs": [
    {
     "name": "stdout",
     "output_type": "stream",
     "text": [
      "Unique values:  ['30-39' '40-49' '60-69' '50-59' '70-79' '20-29']\n",
      "total # of null values 0\n",
      "\n",
      "Summary of Age attribute:\n"
     ]
    },
    {
     "data": {
      "text/plain": [
       "count       272\n",
       "unique        6\n",
       "top       50-59\n",
       "freq         91\n",
       "Name: age, dtype: object"
      ]
     },
     "execution_count": 49,
     "metadata": {},
     "output_type": "execute_result"
    }
   ],
   "source": [
    "# Age attribute\n",
    "print(\"Unique values: \", data[\"age\"].unique())\n",
    "print(\"total # of null values\", data[\"age\"].isnull().sum())\n",
    "print(\"\\nSummary of Age attribute:\")\n",
    "data[\"age\"].describe()"
   ]
  },
  {
   "cell_type": "code",
   "execution_count": 50,
   "metadata": {},
   "outputs": [
    {
     "name": "stdout",
     "output_type": "stream",
     "text": [
      "Unique values:  ['premeno' 'ge40' 'lt40']\n",
      "total # of null values 0\n",
      "\n",
      "Summary of Menopause attribute:\n"
     ]
    },
    {
     "data": {
      "text/plain": [
       "count         272\n",
       "unique          3\n",
       "top       premeno\n",
       "freq          143\n",
       "Name: menopause, dtype: object"
      ]
     },
     "execution_count": 50,
     "metadata": {},
     "output_type": "execute_result"
    }
   ],
   "source": [
    "# Menopause attribute:\n",
    "print(\"Unique values: \", data[\"menopause\"].unique())\n",
    "print(\"total # of null values\", data[\"menopause\"].isnull().sum())\n",
    "print(\"\\nSummary of Menopause attribute:\")\n",
    "data[\"menopause\"].describe()\n"
   ]
  },
  {
   "cell_type": "code",
   "execution_count": 51,
   "metadata": {},
   "outputs": [
    {
     "name": "stdout",
     "output_type": "stream",
     "text": [
      "Unique values:  ['30-34' '20-24' '15-19' '0-4' '25-29' '50-54' '10-14' '40-44' '35-39'\n",
      " '5-9' '45-49']\n",
      "total # of null values 0\n",
      "\n",
      "Summary of tumor-size attribute:\n"
     ]
    },
    {
     "data": {
      "text/plain": [
       "count       272\n",
       "unique       11\n",
       "top       30-34\n",
       "freq         60\n",
       "Name: tumor-size, dtype: object"
      ]
     },
     "execution_count": 51,
     "metadata": {},
     "output_type": "execute_result"
    }
   ],
   "source": [
    "# tumor-size attributes\n",
    "print(\"Unique values: \", data[\"tumor-size\"].unique())\n",
    "print(\"total # of null values\", data[\"tumor-size\"].isnull().sum())\n",
    "print(\"\\nSummary of tumor-size attribute:\")\n",
    "data[\"tumor-size\"].describe()\n"
   ]
  },
  {
   "cell_type": "code",
   "execution_count": 52,
   "metadata": {},
   "outputs": [
    {
     "name": "stdout",
     "output_type": "stream",
     "text": [
      "Unique values:  ['0-2' '6-8' '9-11' '3-5' '15-17' '12-14' '24-26']\n",
      "total # of null values 0\n",
      "\n",
      "Summary of Inv-nodes attribute:\n"
     ]
    },
    {
     "data": {
      "text/plain": [
       "count     272\n",
       "unique      7\n",
       "top       0-2\n",
       "freq      200\n",
       "Name: inv-nodes, dtype: object"
      ]
     },
     "execution_count": 52,
     "metadata": {},
     "output_type": "execute_result"
    }
   ],
   "source": [
    "# Inv-nodes attribute\n",
    "print(\"Unique values: \", data[\"inv-nodes\"].unique())\n",
    "print(\"total # of null values\", data[\"inv-nodes\"].isnull().sum())\n",
    "print(\"\\nSummary of Inv-nodes attribute:\")\n",
    "data[\"inv-nodes\"].describe()"
   ]
  },
  {
   "cell_type": "code",
   "execution_count": 53,
   "metadata": {},
   "outputs": [
    {
     "name": "stdout",
     "output_type": "stream",
     "text": [
      "Unique values:  ['no' 'yes' '?']\n",
      "total # of null values 0\n",
      "Total missing values:  8\n",
      "Missing values here:\n",
      "\n",
      "Summary of node-caps attribute:\n"
     ]
    },
    {
     "data": {
      "text/plain": [
       "count     272\n",
       "unique      3\n",
       "top        no\n",
       "freq      209\n",
       "Name: node-caps, dtype: object"
      ]
     },
     "execution_count": 53,
     "metadata": {},
     "output_type": "execute_result"
    }
   ],
   "source": [
    "# node-caps attribute\n",
    "print(\"Unique values: \", data[\"node-caps\"].unique())\n",
    "print(\"total # of null values\", data[\"node-caps\"].isnull().sum())\n",
    "\n",
    "## This is tricky because there are no \"null\" values, but there are missing values as \"?\"\n",
    "\n",
    "print(\"Total missing values: \", len(data[data['node-caps'] == '?']))\n",
    "print(\"Missing values here:\")\n",
    "data[data['node-caps'] == '?']\n",
    "\n",
    "print(\"\\nSummary of node-caps attribute:\")\n",
    "data[\"node-caps\"].describe()\n",
    "\n",
    "# Will need to circle back to this, do i just need to delete the rows? "
   ]
  },
  {
   "cell_type": "code",
   "execution_count": 54,
   "metadata": {},
   "outputs": [
    {
     "name": "stdout",
     "output_type": "stream",
     "text": [
      "Unique values:  [3 2 1]\n",
      "total # of null values 0\n",
      "\n",
      "Summary of deg-malig attribute:\n"
     ]
    },
    {
     "data": {
      "text/plain": [
       "count    272.000000\n",
       "mean       2.058824\n",
       "std        0.736649\n",
       "min        1.000000\n",
       "25%        2.000000\n",
       "50%        2.000000\n",
       "75%        3.000000\n",
       "max        3.000000\n",
       "Name: deg-malig, dtype: float64"
      ]
     },
     "execution_count": 54,
     "metadata": {},
     "output_type": "execute_result"
    }
   ],
   "source": [
    "# deg-malig attribute \n",
    "print(\"Unique values: \", data[\"deg-malig\"].unique())\n",
    "print(\"total # of null values\", data[\"deg-malig\"].isnull().sum())\n",
    "\n",
    "print(\"\\nSummary of deg-malig attribute:\")\n",
    "data[\"deg-malig\"].describe()\n"
   ]
  },
  {
   "cell_type": "code",
   "execution_count": 55,
   "metadata": {},
   "outputs": [
    {
     "name": "stdout",
     "output_type": "stream",
     "text": [
      "Unique values:  ['left' 'right']\n",
      "total # of null values 0\n",
      "\n",
      "Summary of breast attribute:\n"
     ]
    },
    {
     "data": {
      "text/plain": [
       "count      272\n",
       "unique       2\n",
       "top       left\n",
       "freq       143\n",
       "Name: breast, dtype: object"
      ]
     },
     "execution_count": 55,
     "metadata": {},
     "output_type": "execute_result"
    }
   ],
   "source": [
    "# breast attribute \n",
    "print(\"Unique values: \", data[\"breast\"].unique())\n",
    "print(\"total # of null values\", data[\"breast\"].isnull().sum())\n",
    "\n",
    "print(\"\\nSummary of breast attribute:\")\n",
    "data[\"breast\"].describe()"
   ]
  },
  {
   "cell_type": "code",
   "execution_count": 56,
   "metadata": {},
   "outputs": [
    {
     "name": "stdout",
     "output_type": "stream",
     "text": [
      "Unique values:  ['left_low' 'right_up' 'left_up' 'right_low' 'central' '?']\n",
      "total # of null values 0\n",
      "Total missing values:  1\n",
      "Missing values here:\n",
      "\n",
      "Summary of breast-quad attribute:\n"
     ]
    },
    {
     "data": {
      "text/plain": [
       "count          272\n",
       "unique           6\n",
       "top       left_low\n",
       "freq           103\n",
       "Name: breast-quad, dtype: object"
      ]
     },
     "execution_count": 56,
     "metadata": {},
     "output_type": "execute_result"
    }
   ],
   "source": [
    "# breast-quad attribute \n",
    "print(\"Unique values: \", data[\"breast-quad\"].unique())\n",
    "print(\"total # of null values\", data[\"breast-quad\"].isnull().sum())\n",
    "\n",
    "## more missing values\n",
    "print(\"Total missing values: \", len(data[data['breast-quad'] == '?']))\n",
    "print(\"Missing values here:\")\n",
    "data[data['breast-quad'] == '?']\n",
    "\n",
    "## will circle back, only missing one value\n",
    "\n",
    "print(\"\\nSummary of breast-quad attribute:\")\n",
    "data[\"breast-quad\"].describe()\n"
   ]
  },
  {
   "cell_type": "code",
   "execution_count": 57,
   "metadata": {},
   "outputs": [
    {
     "name": "stdout",
     "output_type": "stream",
     "text": [
      "Unique values:  ['no' 'yes']\n",
      "total # of null values 0\n",
      "\n",
      "Summary of irradiat attribute:\n"
     ]
    },
    {
     "data": {
      "text/plain": [
       "count     272\n",
       "unique      2\n",
       "top        no\n",
       "freq      205\n",
       "Name: irradiat, dtype: object"
      ]
     },
     "execution_count": 57,
     "metadata": {},
     "output_type": "execute_result"
    }
   ],
   "source": [
    "# irradiat attribute \n",
    "print(\"Unique values: \", data[\"irradiat\"].unique())\n",
    "print(\"total # of null values\", data[\"irradiat\"].isnull().sum())\n",
    "\n",
    "print(\"\\nSummary of irradiat attribute:\")\n",
    "data[\"irradiat\"].describe()"
   ]
  },
  {
   "cell_type": "markdown",
   "metadata": {},
   "source": [
    "## Data Visualization"
   ]
  },
  {
   "cell_type": "code",
   "execution_count": 58,
   "metadata": {},
   "outputs": [
    {
     "data": {
      "image/png": "[encoded data removed]",
      "text/plain": [
       "<Figure size 2000x1500 with 9 Axes>"
      ]
     },
     "metadata": {},
     "output_type": "display_data"
    }
   ],
   "source": [
    "import matplotlib.pyplot as plt\n",
    "import seaborn as sns\n",
    "\n",
    "# Define the plot color\n",
    "plot_color = 'lightcoral'\n",
    "\n",
    "# Set the aesthetic style of the plots\n",
    "sns.set_style(\"whitegrid\")\n",
    "\n",
    "# Adjusting the subplot layout to accommodate the updated number of variables\n",
    "fig, ax = plt.subplots(3, 3, figsize=(20, 15))  # Adjusted to 4x3 to fit the additional plot\n",
    "\n",
    "\n",
    "categorical_columns = ['class', 'age', 'menopause', 'tumor-size', 'inv-nodes', 'node-caps',\n",
    "       'deg-malig', 'breast', 'breast-quad']\n",
    "for i, column in enumerate(categorical_columns, start=0):  # Start from the third plot\n",
    "    sns.histplot(data[column], bins=3, ax=ax[i//3, i%3], kde=False, color=plot_color, orientation='vertical')\n",
    "    ax[i//3, i%3].set_title(f'Distribution of {column}')\n",
    "\n",
    "\n",
    "plt.tight_layout()\n",
    "plt.show()"
   ]
  },
  {
   "cell_type": "markdown",
   "metadata": {},
   "source": [
    "## Proccessing data\n",
    "So far the data looks promising, the only issues are the missing values in the 'node-caps' (8) and 'breast-quad' (1) attributes. To solve this there are 2 straight forward solutions: delete the rows or fill the missing values with the mode (most popular value) of their respective columns. As the dataset consists of only 286 entries, I chose to go with filling the values rather than deleting the row as to not lose valuable data. \n",
    "\n",
    "Further, the \"class\", \"menopause\", \"node-caps\", \"breast\", \"breast-quad\" and \"irradiat\" variables will be one hot encoded as they are purely categorical, or nominal variables. \n",
    "\n",
    "The \"age\", \"tumor-size\", and \"inv-nodes\" variables are all ordinal variables that contain an inherent heirarchy or ranking in their values. These variables are also given as ranges rather than specific values. One-hot encoding would destroy the relationship/ranking of these variables, so we have two options: Ordinal encoding or using the mean of the range as the value, allowing us to interpret the varaibles as a contintinous variable. \n",
    "\n",
    "1) First, I will fill the missing values. \n",
    "\n",
    "2) Second, I will preform ordinal encoding on the ordinal variables.\n",
    "\n",
    "3) Lastly one hot encoding will be preformed on the nominal variables.\n"
   ]
  },
  {
   "cell_type": "markdown",
   "metadata": {},
   "source": [
    "### Filling Missing Values"
   ]
  },
  {
   "cell_type": "code",
   "execution_count": 59,
   "metadata": {},
   "outputs": [
    {
     "name": "stdout",
     "output_type": "stream",
     "text": [
      "The mode of the node-caps column is:  no\n",
      "Missing values in node-caps attribute:  0\n"
     ]
    }
   ],
   "source": [
    "# node-caps\n",
    "print('The mode of the node-caps column is: ', data['node-caps'].mode()[0])\n",
    "\n",
    "# replacing the ? with the mode\n",
    "data['node-caps'] = data['node-caps'].replace('?', data['node-caps'].mode()[0])\n",
    "\n",
    "# Confirming it worked\n",
    "data['node-caps'].unique()\n",
    "print('Missing values in node-caps attribute: ', len(data[data['node-caps'] == '?']))"
   ]
  },
  {
   "cell_type": "code",
   "execution_count": 60,
   "metadata": {},
   "outputs": [
    {
     "name": "stdout",
     "output_type": "stream",
     "text": [
      "The mode of the breast-quad column is:  left_low\n",
      "Missing values in breast-quad attribute:  0\n"
     ]
    }
   ],
   "source": [
    "# breast-quad\n",
    "print('The mode of the breast-quad column is: ', data['breast-quad'].mode()[0])\n",
    "\n",
    "# replacing the ? with the mode\n",
    "data['breast-quad'] = data['breast-quad'].replace('?', data['breast-quad'].mode()[0])\n",
    "\n",
    "# Confirming it worked\n",
    "data['breast-quad'].unique()\n",
    "print('Missing values in breast-quad attribute: ', len(data[data['breast-quad'] == '?']))"
   ]
  },
  {
   "cell_type": "code",
   "execution_count": 61,
   "metadata": {},
   "outputs": [
    {
     "name": "stdout",
     "output_type": "stream",
     "text": [
      "Question Mark Values:\n",
      "class          0\n",
      "age            0\n",
      "menopause      0\n",
      "tumor-size     0\n",
      "inv-nodes      0\n",
      "node-caps      0\n",
      "deg-malig      0\n",
      "breast         0\n",
      "breast-quad    0\n",
      "irradiat       0\n",
      "dtype: int64\n",
      "\n",
      "Null or NaN Values:\n"
     ]
    },
    {
     "data": {
      "text/plain": [
       "class          0\n",
       "age            0\n",
       "menopause      0\n",
       "tumor-size     0\n",
       "inv-nodes      0\n",
       "node-caps      0\n",
       "deg-malig      0\n",
       "breast         0\n",
       "breast-quad    0\n",
       "irradiat       0\n",
       "dtype: int64"
      ]
     },
     "execution_count": 61,
     "metadata": {},
     "output_type": "execute_result"
    }
   ],
   "source": [
    "# Verifying\n",
    "print('Question Mark Values:')\n",
    "print(data.map(lambda x: x == '?').sum())\n",
    "\n",
    "print('\\nNull or NaN Values:')\n",
    "data.isnull().sum()"
   ]
  },
  {
   "cell_type": "markdown",
   "metadata": {},
   "source": [
    "### Ordinal encoding"
   ]
  },
  {
   "cell_type": "code",
   "execution_count": 62,
   "metadata": {},
   "outputs": [
    {
     "name": "stderr",
     "output_type": "stream",
     "text": [
      "/var/folders/hm/klr8rtx572v84mlfrf6m6vp80000gn/T/ipykernel_67383/3346021011.py:3: FutureWarning: Downcasting behavior in `replace` is deprecated and will be removed in a future version. To retain the old behavior, explicitly call `result.infer_objects(copy=False)`. To opt-in to the future behavior, set `pd.set_option('future.no_silent_downcasting', True)`\n",
      "  data[\"age\"] = data[\"age\"].replace(scale_mapper_age)\n"
     ]
    }
   ],
   "source": [
    "# Age\n",
    "scale_mapper_age = { \"20-29\":0, \"30-39\":1, \"40-49\":2, \"50-59\":3,\"60-69\":4, \"70-79\":5 }\n",
    "data[\"age\"] = data[\"age\"].replace(scale_mapper_age)"
   ]
  },
  {
   "cell_type": "code",
   "execution_count": 63,
   "metadata": {},
   "outputs": [
    {
     "name": "stderr",
     "output_type": "stream",
     "text": [
      "/var/folders/hm/klr8rtx572v84mlfrf6m6vp80000gn/T/ipykernel_67383/828504478.py:9: FutureWarning: Downcasting behavior in `replace` is deprecated and will be removed in a future version. To retain the old behavior, explicitly call `result.infer_objects(copy=False)`. To opt-in to the future behavior, set `pd.set_option('future.no_silent_downcasting', True)`\n",
      "  data['tumor-size'] = data['tumor-size'].replace(scale_mapper_tumor_size)\n"
     ]
    }
   ],
   "source": [
    "# tumor size\n",
    "scale_mapper_tumor_size = {\"0-4\":0, \"5-9\":1,\n",
    "                           \"10-14\":2,\"15-19\":3,\n",
    "                           \"20-24\":4, \"25-29\":5,\n",
    "                           \"30-34\":6,\"35-39\":7,\n",
    "                           \"40-44\":8, \"45-49\":9,\n",
    "                           \"50-54\":10}\n",
    "\n",
    "data['tumor-size'] = data['tumor-size'].replace(scale_mapper_tumor_size)\n"
   ]
  },
  {
   "cell_type": "code",
   "execution_count": 64,
   "metadata": {},
   "outputs": [
    {
     "name": "stderr",
     "output_type": "stream",
     "text": [
      "/var/folders/hm/klr8rtx572v84mlfrf6m6vp80000gn/T/ipykernel_67383/742387722.py:4: FutureWarning: Downcasting behavior in `replace` is deprecated and will be removed in a future version. To retain the old behavior, explicitly call `result.infer_objects(copy=False)`. To opt-in to the future behavior, set `pd.set_option('future.no_silent_downcasting', True)`\n",
      "  data[\"inv-nodes\"] = data[\"inv-nodes\"].replace(scale_mapper_inv_nodes)\n"
     ]
    }
   ],
   "source": [
    "# inv-nodes\n",
    "scale_mapper_inv_nodes = { \"0-2\":0, \"3-5\":1, \"6-8\":2, \"9-11\":3,\"12-14\":4, \"15-17\":5, \"24-26\":6 }\n",
    "\n",
    "data[\"inv-nodes\"] = data[\"inv-nodes\"].replace(scale_mapper_inv_nodes)"
   ]
  },
  {
   "cell_type": "code",
   "execution_count": 65,
   "metadata": {},
   "outputs": [
    {
     "data": {
      "text/html": [
       "<div>\n",
       "<style scoped>\n",
       "    .dataframe tbody tr th:only-of-type {\n",
       "        vertical-align: middle;\n",
       "    }\n",
       "\n",
       "    .dataframe tbody tr th {\n",
       "        vertical-align: top;\n",
       "    }\n",
       "\n",
       "    .dataframe thead th {\n",
       "        text-align: right;\n",
       "    }\n",
       "</style>\n",
       "<table border=\"1\" class=\"dataframe\">\n",
       "  <thead>\n",
       "    <tr style=\"text-align: right;\">\n",
       "      <th></th>\n",
       "      <th>class</th>\n",
       "      <th>age</th>\n",
       "      <th>menopause</th>\n",
       "      <th>tumor-size</th>\n",
       "      <th>inv-nodes</th>\n",
       "      <th>node-caps</th>\n",
       "      <th>deg-malig</th>\n",
       "      <th>breast</th>\n",
       "      <th>breast-quad</th>\n",
       "      <th>irradiat</th>\n",
       "    </tr>\n",
       "  </thead>\n",
       "  <tbody>\n",
       "    <tr>\n",
       "      <th>0</th>\n",
       "      <td>no-recurrence-events</td>\n",
       "      <td>1</td>\n",
       "      <td>premeno</td>\n",
       "      <td>6</td>\n",
       "      <td>0</td>\n",
       "      <td>no</td>\n",
       "      <td>3</td>\n",
       "      <td>left</td>\n",
       "      <td>left_low</td>\n",
       "      <td>no</td>\n",
       "    </tr>\n",
       "    <tr>\n",
       "      <th>1</th>\n",
       "      <td>no-recurrence-events</td>\n",
       "      <td>2</td>\n",
       "      <td>premeno</td>\n",
       "      <td>4</td>\n",
       "      <td>0</td>\n",
       "      <td>no</td>\n",
       "      <td>2</td>\n",
       "      <td>right</td>\n",
       "      <td>right_up</td>\n",
       "      <td>no</td>\n",
       "    </tr>\n",
       "    <tr>\n",
       "      <th>2</th>\n",
       "      <td>no-recurrence-events</td>\n",
       "      <td>2</td>\n",
       "      <td>premeno</td>\n",
       "      <td>4</td>\n",
       "      <td>0</td>\n",
       "      <td>no</td>\n",
       "      <td>2</td>\n",
       "      <td>left</td>\n",
       "      <td>left_low</td>\n",
       "      <td>no</td>\n",
       "    </tr>\n",
       "    <tr>\n",
       "      <th>3</th>\n",
       "      <td>no-recurrence-events</td>\n",
       "      <td>4</td>\n",
       "      <td>ge40</td>\n",
       "      <td>3</td>\n",
       "      <td>0</td>\n",
       "      <td>no</td>\n",
       "      <td>2</td>\n",
       "      <td>right</td>\n",
       "      <td>left_up</td>\n",
       "      <td>no</td>\n",
       "    </tr>\n",
       "    <tr>\n",
       "      <th>4</th>\n",
       "      <td>no-recurrence-events</td>\n",
       "      <td>2</td>\n",
       "      <td>premeno</td>\n",
       "      <td>0</td>\n",
       "      <td>0</td>\n",
       "      <td>no</td>\n",
       "      <td>2</td>\n",
       "      <td>right</td>\n",
       "      <td>right_low</td>\n",
       "      <td>no</td>\n",
       "    </tr>\n",
       "    <tr>\n",
       "      <th>...</th>\n",
       "      <td>...</td>\n",
       "      <td>...</td>\n",
       "      <td>...</td>\n",
       "      <td>...</td>\n",
       "      <td>...</td>\n",
       "      <td>...</td>\n",
       "      <td>...</td>\n",
       "      <td>...</td>\n",
       "      <td>...</td>\n",
       "      <td>...</td>\n",
       "    </tr>\n",
       "    <tr>\n",
       "      <th>267</th>\n",
       "      <td>recurrence-events</td>\n",
       "      <td>1</td>\n",
       "      <td>premeno</td>\n",
       "      <td>6</td>\n",
       "      <td>0</td>\n",
       "      <td>no</td>\n",
       "      <td>2</td>\n",
       "      <td>left</td>\n",
       "      <td>left_up</td>\n",
       "      <td>no</td>\n",
       "    </tr>\n",
       "    <tr>\n",
       "      <th>268</th>\n",
       "      <td>recurrence-events</td>\n",
       "      <td>1</td>\n",
       "      <td>premeno</td>\n",
       "      <td>4</td>\n",
       "      <td>0</td>\n",
       "      <td>no</td>\n",
       "      <td>3</td>\n",
       "      <td>left</td>\n",
       "      <td>left_up</td>\n",
       "      <td>yes</td>\n",
       "    </tr>\n",
       "    <tr>\n",
       "      <th>269</th>\n",
       "      <td>recurrence-events</td>\n",
       "      <td>4</td>\n",
       "      <td>ge40</td>\n",
       "      <td>4</td>\n",
       "      <td>0</td>\n",
       "      <td>no</td>\n",
       "      <td>1</td>\n",
       "      <td>right</td>\n",
       "      <td>left_up</td>\n",
       "      <td>no</td>\n",
       "    </tr>\n",
       "    <tr>\n",
       "      <th>270</th>\n",
       "      <td>recurrence-events</td>\n",
       "      <td>2</td>\n",
       "      <td>ge40</td>\n",
       "      <td>6</td>\n",
       "      <td>1</td>\n",
       "      <td>no</td>\n",
       "      <td>3</td>\n",
       "      <td>left</td>\n",
       "      <td>left_low</td>\n",
       "      <td>no</td>\n",
       "    </tr>\n",
       "    <tr>\n",
       "      <th>271</th>\n",
       "      <td>recurrence-events</td>\n",
       "      <td>3</td>\n",
       "      <td>ge40</td>\n",
       "      <td>6</td>\n",
       "      <td>1</td>\n",
       "      <td>no</td>\n",
       "      <td>3</td>\n",
       "      <td>left</td>\n",
       "      <td>left_low</td>\n",
       "      <td>no</td>\n",
       "    </tr>\n",
       "  </tbody>\n",
       "</table>\n",
       "<p>272 rows × 10 columns</p>\n",
       "</div>"
      ],
      "text/plain": [
       "                    class  age menopause  tumor-size  inv-nodes node-caps  \\\n",
       "0    no-recurrence-events    1   premeno           6          0        no   \n",
       "1    no-recurrence-events    2   premeno           4          0        no   \n",
       "2    no-recurrence-events    2   premeno           4          0        no   \n",
       "3    no-recurrence-events    4      ge40           3          0        no   \n",
       "4    no-recurrence-events    2   premeno           0          0        no   \n",
       "..                    ...  ...       ...         ...        ...       ...   \n",
       "267     recurrence-events    1   premeno           6          0        no   \n",
       "268     recurrence-events    1   premeno           4          0        no   \n",
       "269     recurrence-events    4      ge40           4          0        no   \n",
       "270     recurrence-events    2      ge40           6          1        no   \n",
       "271     recurrence-events    3      ge40           6          1        no   \n",
       "\n",
       "     deg-malig breast breast-quad irradiat  \n",
       "0            3   left    left_low       no  \n",
       "1            2  right    right_up       no  \n",
       "2            2   left    left_low       no  \n",
       "3            2  right     left_up       no  \n",
       "4            2  right   right_low       no  \n",
       "..         ...    ...         ...      ...  \n",
       "267          2   left     left_up       no  \n",
       "268          3   left     left_up      yes  \n",
       "269          1  right     left_up       no  \n",
       "270          3   left    left_low       no  \n",
       "271          3   left    left_low       no  \n",
       "\n",
       "[272 rows x 10 columns]"
      ]
     },
     "execution_count": 65,
     "metadata": {},
     "output_type": "execute_result"
    }
   ],
   "source": [
    "data"
   ]
  },
  {
   "cell_type": "markdown",
   "metadata": {},
   "source": [
    "### One Hot Encoding"
   ]
  },
  {
   "cell_type": "code",
   "execution_count": 66,
   "metadata": {},
   "outputs": [],
   "source": [
    "data = pd.get_dummies(data, columns=[\"class\", \"menopause\", \"node-caps\", \"breast\", \"breast-quad\", \"irradiat\"], drop_first=True)"
   ]
  },
  {
   "cell_type": "code",
   "execution_count": 67,
   "metadata": {},
   "outputs": [
    {
     "data": {
      "text/html": [
       "<div>\n",
       "<style scoped>\n",
       "    .dataframe tbody tr th:only-of-type {\n",
       "        vertical-align: middle;\n",
       "    }\n",
       "\n",
       "    .dataframe tbody tr th {\n",
       "        vertical-align: top;\n",
       "    }\n",
       "\n",
       "    .dataframe thead th {\n",
       "        text-align: right;\n",
       "    }\n",
       "</style>\n",
       "<table border=\"1\" class=\"dataframe\">\n",
       "  <thead>\n",
       "    <tr style=\"text-align: right;\">\n",
       "      <th></th>\n",
       "      <th>age</th>\n",
       "      <th>tumor-size</th>\n",
       "      <th>inv-nodes</th>\n",
       "      <th>deg-malig</th>\n",
       "      <th>class_recurrence-events</th>\n",
       "      <th>menopause_lt40</th>\n",
       "      <th>menopause_premeno</th>\n",
       "      <th>node-caps_yes</th>\n",
       "      <th>breast_right</th>\n",
       "      <th>breast-quad_left_low</th>\n",
       "      <th>breast-quad_left_up</th>\n",
       "      <th>breast-quad_right_low</th>\n",
       "      <th>breast-quad_right_up</th>\n",
       "      <th>irradiat_yes</th>\n",
       "    </tr>\n",
       "  </thead>\n",
       "  <tbody>\n",
       "    <tr>\n",
       "      <th>0</th>\n",
       "      <td>1</td>\n",
       "      <td>6</td>\n",
       "      <td>0</td>\n",
       "      <td>3</td>\n",
       "      <td>False</td>\n",
       "      <td>False</td>\n",
       "      <td>True</td>\n",
       "      <td>False</td>\n",
       "      <td>False</td>\n",
       "      <td>True</td>\n",
       "      <td>False</td>\n",
       "      <td>False</td>\n",
       "      <td>False</td>\n",
       "      <td>False</td>\n",
       "    </tr>\n",
       "    <tr>\n",
       "      <th>1</th>\n",
       "      <td>2</td>\n",
       "      <td>4</td>\n",
       "      <td>0</td>\n",
       "      <td>2</td>\n",
       "      <td>False</td>\n",
       "      <td>False</td>\n",
       "      <td>True</td>\n",
       "      <td>False</td>\n",
       "      <td>True</td>\n",
       "      <td>False</td>\n",
       "      <td>False</td>\n",
       "      <td>False</td>\n",
       "      <td>True</td>\n",
       "      <td>False</td>\n",
       "    </tr>\n",
       "    <tr>\n",
       "      <th>2</th>\n",
       "      <td>2</td>\n",
       "      <td>4</td>\n",
       "      <td>0</td>\n",
       "      <td>2</td>\n",
       "      <td>False</td>\n",
       "      <td>False</td>\n",
       "      <td>True</td>\n",
       "      <td>False</td>\n",
       "      <td>False</td>\n",
       "      <td>True</td>\n",
       "      <td>False</td>\n",
       "      <td>False</td>\n",
       "      <td>False</td>\n",
       "      <td>False</td>\n",
       "    </tr>\n",
       "    <tr>\n",
       "      <th>3</th>\n",
       "      <td>4</td>\n",
       "      <td>3</td>\n",
       "      <td>0</td>\n",
       "      <td>2</td>\n",
       "      <td>False</td>\n",
       "      <td>False</td>\n",
       "      <td>False</td>\n",
       "      <td>False</td>\n",
       "      <td>True</td>\n",
       "      <td>False</td>\n",
       "      <td>True</td>\n",
       "      <td>False</td>\n",
       "      <td>False</td>\n",
       "      <td>False</td>\n",
       "    </tr>\n",
       "    <tr>\n",
       "      <th>4</th>\n",
       "      <td>2</td>\n",
       "      <td>0</td>\n",
       "      <td>0</td>\n",
       "      <td>2</td>\n",
       "      <td>False</td>\n",
       "      <td>False</td>\n",
       "      <td>True</td>\n",
       "      <td>False</td>\n",
       "      <td>True</td>\n",
       "      <td>False</td>\n",
       "      <td>False</td>\n",
       "      <td>True</td>\n",
       "      <td>False</td>\n",
       "      <td>False</td>\n",
       "    </tr>\n",
       "    <tr>\n",
       "      <th>...</th>\n",
       "      <td>...</td>\n",
       "      <td>...</td>\n",
       "      <td>...</td>\n",
       "      <td>...</td>\n",
       "      <td>...</td>\n",
       "      <td>...</td>\n",
       "      <td>...</td>\n",
       "      <td>...</td>\n",
       "      <td>...</td>\n",
       "      <td>...</td>\n",
       "      <td>...</td>\n",
       "      <td>...</td>\n",
       "      <td>...</td>\n",
       "      <td>...</td>\n",
       "    </tr>\n",
       "    <tr>\n",
       "      <th>267</th>\n",
       "      <td>1</td>\n",
       "      <td>6</td>\n",
       "      <td>0</td>\n",
       "      <td>2</td>\n",
       "      <td>True</td>\n",
       "      <td>False</td>\n",
       "      <td>True</td>\n",
       "      <td>False</td>\n",
       "      <td>False</td>\n",
       "      <td>False</td>\n",
       "      <td>True</td>\n",
       "      <td>False</td>\n",
       "      <td>False</td>\n",
       "      <td>False</td>\n",
       "    </tr>\n",
       "    <tr>\n",
       "      <th>268</th>\n",
       "      <td>1</td>\n",
       "      <td>4</td>\n",
       "      <td>0</td>\n",
       "      <td>3</td>\n",
       "      <td>True</td>\n",
       "      <td>False</td>\n",
       "      <td>True</td>\n",
       "      <td>False</td>\n",
       "      <td>False</td>\n",
       "      <td>False</td>\n",
       "      <td>True</td>\n",
       "      <td>False</td>\n",
       "      <td>False</td>\n",
       "      <td>True</td>\n",
       "    </tr>\n",
       "    <tr>\n",
       "      <th>269</th>\n",
       "      <td>4</td>\n",
       "      <td>4</td>\n",
       "      <td>0</td>\n",
       "      <td>1</td>\n",
       "      <td>True</td>\n",
       "      <td>False</td>\n",
       "      <td>False</td>\n",
       "      <td>False</td>\n",
       "      <td>True</td>\n",
       "      <td>False</td>\n",
       "      <td>True</td>\n",
       "      <td>False</td>\n",
       "      <td>False</td>\n",
       "      <td>False</td>\n",
       "    </tr>\n",
       "    <tr>\n",
       "      <th>270</th>\n",
       "      <td>2</td>\n",
       "      <td>6</td>\n",
       "      <td>1</td>\n",
       "      <td>3</td>\n",
       "      <td>True</td>\n",
       "      <td>False</td>\n",
       "      <td>False</td>\n",
       "      <td>False</td>\n",
       "      <td>False</td>\n",
       "      <td>True</td>\n",
       "      <td>False</td>\n",
       "      <td>False</td>\n",
       "      <td>False</td>\n",
       "      <td>False</td>\n",
       "    </tr>\n",
       "    <tr>\n",
       "      <th>271</th>\n",
       "      <td>3</td>\n",
       "      <td>6</td>\n",
       "      <td>1</td>\n",
       "      <td>3</td>\n",
       "      <td>True</td>\n",
       "      <td>False</td>\n",
       "      <td>False</td>\n",
       "      <td>False</td>\n",
       "      <td>False</td>\n",
       "      <td>True</td>\n",
       "      <td>False</td>\n",
       "      <td>False</td>\n",
       "      <td>False</td>\n",
       "      <td>False</td>\n",
       "    </tr>\n",
       "  </tbody>\n",
       "</table>\n",
       "<p>272 rows × 14 columns</p>\n",
       "</div>"
      ],
      "text/plain": [
       "     age  tumor-size  inv-nodes  deg-malig  class_recurrence-events  \\\n",
       "0      1           6          0          3                    False   \n",
       "1      2           4          0          2                    False   \n",
       "2      2           4          0          2                    False   \n",
       "3      4           3          0          2                    False   \n",
       "4      2           0          0          2                    False   \n",
       "..   ...         ...        ...        ...                      ...   \n",
       "267    1           6          0          2                     True   \n",
       "268    1           4          0          3                     True   \n",
       "269    4           4          0          1                     True   \n",
       "270    2           6          1          3                     True   \n",
       "271    3           6          1          3                     True   \n",
       "\n",
       "     menopause_lt40  menopause_premeno  node-caps_yes  breast_right  \\\n",
       "0             False               True          False         False   \n",
       "1             False               True          False          True   \n",
       "2             False               True          False         False   \n",
       "3             False              False          False          True   \n",
       "4             False               True          False          True   \n",
       "..              ...                ...            ...           ...   \n",
       "267           False               True          False         False   \n",
       "268           False               True          False         False   \n",
       "269           False              False          False          True   \n",
       "270           False              False          False         False   \n",
       "271           False              False          False         False   \n",
       "\n",
       "     breast-quad_left_low  breast-quad_left_up  breast-quad_right_low  \\\n",
       "0                    True                False                  False   \n",
       "1                   False                False                  False   \n",
       "2                    True                False                  False   \n",
       "3                   False                 True                  False   \n",
       "4                   False                False                   True   \n",
       "..                    ...                  ...                    ...   \n",
       "267                 False                 True                  False   \n",
       "268                 False                 True                  False   \n",
       "269                 False                 True                  False   \n",
       "270                  True                False                  False   \n",
       "271                  True                False                  False   \n",
       "\n",
       "     breast-quad_right_up  irradiat_yes  \n",
       "0                   False         False  \n",
       "1                    True         False  \n",
       "2                   False         False  \n",
       "3                   False         False  \n",
       "4                   False         False  \n",
       "..                    ...           ...  \n",
       "267                 False         False  \n",
       "268                 False          True  \n",
       "269                 False         False  \n",
       "270                 False         False  \n",
       "271                 False         False  \n",
       "\n",
       "[272 rows x 14 columns]"
      ]
     },
     "execution_count": 67,
     "metadata": {},
     "output_type": "execute_result"
    }
   ],
   "source": [
    "data"
   ]
  },
  {
   "cell_type": "markdown",
   "metadata": {},
   "source": [
    "## Part 2"
   ]
  },
  {
   "cell_type": "markdown",
   "metadata": {},
   "source": [
    "### Splitting Data"
   ]
  },
  {
   "cell_type": "code",
   "execution_count": 68,
   "metadata": {},
   "outputs": [],
   "source": [
    "from sklearn.model_selection import train_test_split\n",
    "\n",
    "X = data.drop('class_recurrence-events', axis=1)\n",
    "y = data['class_recurrence-events']\n",
    "\n",
    "X_train, X_test, y_train, y_test = train_test_split(X, y, test_size=0.3, random_state=1, stratify=y)\n"
   ]
  },
  {
   "cell_type": "markdown",
   "metadata": {},
   "source": [
    "### Random Forest Classifier"
   ]
  },
  {
   "cell_type": "code",
   "execution_count": 76,
   "metadata": {},
   "outputs": [
    {
     "data": {
      "text/html": [
       "<style>#sk-container-id-3 {color: black;}#sk-container-id-3 pre{padding: 0;}#sk-container-id-3 div.sk-toggleable {background-color: white;}#sk-container-id-3 label.sk-toggleable__label {cursor: pointer;display: block;width: 100%;margin-bottom: 0;padding: 0.3em;box-sizing: border-box;text-align: center;}#sk-container-id-3 label.sk-toggleable__label-arrow:before {content: \"▸\";float: left;margin-right: 0.25em;color: #696969;}#sk-container-id-3 label.sk-toggleable__label-arrow:hover:before {color: black;}#sk-container-id-3 div.sk-estimator:hover label.sk-toggleable__label-arrow:before {color: black;}#sk-container-id-3 div.sk-toggleable__content {max-height: 0;max-width: 0;overflow: hidden;text-align: left;background-color: #f0f8ff;}#sk-container-id-3 div.sk-toggleable__content pre {margin: 0.2em;color: black;border-radius: 0.25em;background-color: #f0f8ff;}#sk-container-id-3 input.sk-toggleable__control:checked~div.sk-toggleable__content {max-height: 200px;max-width: 100%;overflow: auto;}#sk-container-id-3 input.sk-toggleable__control:checked~label.sk-toggleable__label-arrow:before {content: \"▾\";}#sk-container-id-3 div.sk-estimator input.sk-toggleable__control:checked~label.sk-toggleable__label {background-color: #d4ebff;}#sk-container-id-3 div.sk-label input.sk-toggleable__control:checked~label.sk-toggleable__label {background-color: #d4ebff;}#sk-container-id-3 input.sk-hidden--visually {border: 0;clip: rect(1px 1px 1px 1px);clip: rect(1px, 1px, 1px, 1px);height: 1px;margin: -1px;overflow: hidden;padding: 0;position: absolute;width: 1px;}#sk-container-id-3 div.sk-estimator {font-family: monospace;background-color: #f0f8ff;border: 1px dotted black;border-radius: 0.25em;box-sizing: border-box;margin-bottom: 0.5em;}#sk-container-id-3 div.sk-estimator:hover {background-color: #d4ebff;}#sk-container-id-3 div.sk-parallel-item::after {content: \"\";width: 100%;border-bottom: 1px solid gray;flex-grow: 1;}#sk-container-id-3 div.sk-label:hover label.sk-toggleable__label {background-color: #d4ebff;}#sk-container-id-3 div.sk-serial::before {content: \"\";position: absolute;border-left: 1px solid gray;box-sizing: border-box;top: 0;bottom: 0;left: 50%;z-index: 0;}#sk-container-id-3 div.sk-serial {display: flex;flex-direction: column;align-items: center;background-color: white;padding-right: 0.2em;padding-left: 0.2em;position: relative;}#sk-container-id-3 div.sk-item {position: relative;z-index: 1;}#sk-container-id-3 div.sk-parallel {display: flex;align-items: stretch;justify-content: center;background-color: white;position: relative;}#sk-container-id-3 div.sk-item::before, #sk-container-id-3 div.sk-parallel-item::before {content: \"\";position: absolute;border-left: 1px solid gray;box-sizing: border-box;top: 0;bottom: 0;left: 50%;z-index: -1;}#sk-container-id-3 div.sk-parallel-item {display: flex;flex-direction: column;z-index: 1;position: relative;background-color: white;}#sk-container-id-3 div.sk-parallel-item:first-child::after {align-self: flex-end;width: 50%;}#sk-container-id-3 div.sk-parallel-item:last-child::after {align-self: flex-start;width: 50%;}#sk-container-id-3 div.sk-parallel-item:only-child::after {width: 0;}#sk-container-id-3 div.sk-dashed-wrapped {border: 1px dashed gray;margin: 0 0.4em 0.5em 0.4em;box-sizing: border-box;padding-bottom: 0.4em;background-color: white;}#sk-container-id-3 div.sk-label label {font-family: monospace;font-weight: bold;display: inline-block;line-height: 1.2em;}#sk-container-id-3 div.sk-label-container {text-align: center;}#sk-container-id-3 div.sk-container {/* jupyter's `normalize.less` sets `[hidden] { display: none; }` but bootstrap.min.css set `[hidden] { display: none !important; }` so we also need the `!important` here to be able to override the default hidden behavior on the sphinx rendered scikit-learn.org. See: https://github.com/scikit-learn/scikit-learn/issues/21755 */display: inline-block !important;position: relative;}#sk-container-id-3 div.sk-text-repr-fallback {display: none;}</style><div id=\"sk-container-id-3\" class=\"sk-top-container\"><div class=\"sk-text-repr-fallback\"><pre>GridSearchCV(cv=5, estimator=RandomForestClassifier(random_state=1),\n",
       "             param_grid={&#x27;class_weight&#x27;: [{0: 0.1, 1: 0.9}, {0: 0.2, 1: 0.8},\n",
       "                                          {0: 0.3, 1: 0.7}],\n",
       "                         &#x27;max_depth&#x27;: [None, 2, 3, 4, 5, 6, 7, 8, 9],\n",
       "                         &#x27;min_samples_leaf&#x27;: array([1, 3, 5, 7, 9]),\n",
       "                         &#x27;n_estimators&#x27;: array([10, 12, 14, 16, 18, 20, 22, 24, 26, 28, 30, 32, 34, 36, 38, 40, 42,\n",
       "       44, 46, 48, 50, 52, 54, 56, 58, 60, 62, 64, 66, 68, 70, 72, 74, 76,\n",
       "       78, 80, 82, 84, 86, 88, 90, 92, 94, 96, 98])},\n",
       "             scoring=&#x27;recall&#x27;)</pre><b>In a Jupyter environment, please rerun this cell to show the HTML representation or trust the notebook. <br />On GitHub, the HTML representation is unable to render, please try loading this page with nbviewer.org.</b></div><div class=\"sk-container\" hidden><div class=\"sk-item sk-dashed-wrapped\"><div class=\"sk-label-container\"><div class=\"sk-label sk-toggleable\"><input class=\"sk-toggleable__control sk-hidden--visually\" id=\"sk-estimator-id-7\" type=\"checkbox\" ><label for=\"sk-estimator-id-7\" class=\"sk-toggleable__label sk-toggleable__label-arrow\">GridSearchCV</label><div class=\"sk-toggleable__content\"><pre>GridSearchCV(cv=5, estimator=RandomForestClassifier(random_state=1),\n",
       "             param_grid={&#x27;class_weight&#x27;: [{0: 0.1, 1: 0.9}, {0: 0.2, 1: 0.8},\n",
       "                                          {0: 0.3, 1: 0.7}],\n",
       "                         &#x27;max_depth&#x27;: [None, 2, 3, 4, 5, 6, 7, 8, 9],\n",
       "                         &#x27;min_samples_leaf&#x27;: array([1, 3, 5, 7, 9]),\n",
       "                         &#x27;n_estimators&#x27;: array([10, 12, 14, 16, 18, 20, 22, 24, 26, 28, 30, 32, 34, 36, 38, 40, 42,\n",
       "       44, 46, 48, 50, 52, 54, 56, 58, 60, 62, 64, 66, 68, 70, 72, 74, 76,\n",
       "       78, 80, 82, 84, 86, 88, 90, 92, 94, 96, 98])},\n",
       "             scoring=&#x27;recall&#x27;)</pre></div></div></div><div class=\"sk-parallel\"><div class=\"sk-parallel-item\"><div class=\"sk-item\"><div class=\"sk-label-container\"><div class=\"sk-label sk-toggleable\"><input class=\"sk-toggleable__control sk-hidden--visually\" id=\"sk-estimator-id-8\" type=\"checkbox\" ><label for=\"sk-estimator-id-8\" class=\"sk-toggleable__label sk-toggleable__label-arrow\">estimator: RandomForestClassifier</label><div class=\"sk-toggleable__content\"><pre>RandomForestClassifier(random_state=1)</pre></div></div></div><div class=\"sk-serial\"><div class=\"sk-item\"><div class=\"sk-estimator sk-toggleable\"><input class=\"sk-toggleable__control sk-hidden--visually\" id=\"sk-estimator-id-9\" type=\"checkbox\" ><label for=\"sk-estimator-id-9\" class=\"sk-toggleable__label sk-toggleable__label-arrow\">RandomForestClassifier</label><div class=\"sk-toggleable__content\"><pre>RandomForestClassifier(random_state=1)</pre></div></div></div></div></div></div></div></div></div></div>"
      ],
      "text/plain": [
       "GridSearchCV(cv=5, estimator=RandomForestClassifier(random_state=1),\n",
       "             param_grid={'class_weight': [{0: 0.1, 1: 0.9}, {0: 0.2, 1: 0.8},\n",
       "                                          {0: 0.3, 1: 0.7}],\n",
       "                         'max_depth': [None, 2, 3, 4, 5, 6, 7, 8, 9],\n",
       "                         'min_samples_leaf': array([1, 3, 5, 7, 9]),\n",
       "                         'n_estimators': array([10, 12, 14, 16, 18, 20, 22, 24, 26, 28, 30, 32, 34, 36, 38, 40, 42,\n",
       "       44, 46, 48, 50, 52, 54, 56, 58, 60, 62, 64, 66, 68, 70, 72, 74, 76,\n",
       "       78, 80, 82, 84, 86, 88, 90, 92, 94, 96, 98])},\n",
       "             scoring='recall')"
      ]
     },
     "execution_count": 76,
     "metadata": {},
     "output_type": "execute_result"
    }
   ],
   "source": [
    "# Random Forest Classifier\n",
    "from sklearn.ensemble import RandomForestClassifier\n",
    "from sklearn.model_selection import GridSearchCV\n",
    "\n",
    "rf_model = RandomForestClassifier(random_state=1)\n",
    "\n",
    "param_grid = {\n",
    "   \"n_estimators\": np.arange(10, 100, 2),\n",
    "   \"max_depth\": [None] + list(np.arange(2, 10)),\n",
    "   \"min_samples_leaf\": np.arange(1, 10, 2),\n",
    "   \"class_weight\": [{0: 0.1, 1: 0.9}, {0: 0.2, 1: 0.8}, {0: 0.3, 1: 0.7}], # data is fairly even (191-80) don't need\n",
    "}\n",
    "\n",
    "gscv = GridSearchCV(estimator=rf_model, param_grid=param_grid, cv=5, scoring='recall')\n",
    "gscv.fit(X_train, y_train)"
   ]
  },
  {
   "cell_type": "code",
   "execution_count": 77,
   "metadata": {},
   "outputs": [
    {
     "name": "stdout",
     "output_type": "stream",
     "text": [
      "Best parameters: {'class_weight': {0: 0.1, 1: 0.9}, 'max_depth': 2, 'min_samples_leaf': 1, 'n_estimators': 10}\n",
      "Best score: 1.0\n",
      "Performance on TEST\n",
      "*******************\n",
      "              precision    recall  f1-score   support\n",
      "\n",
      "       False       0.00      0.00      0.00        58\n",
      "        True       0.29      1.00      0.45        24\n",
      "\n",
      "    accuracy                           0.29        82\n",
      "   macro avg       0.15      0.50      0.23        82\n",
      "weighted avg       0.09      0.29      0.13        82\n",
      "\n",
      "Performance on TRAIN\n",
      "********************\n",
      "              precision    recall  f1-score   support\n",
      "\n",
      "       False       1.00      0.01      0.01       133\n",
      "        True       0.30      1.00      0.46        57\n",
      "\n",
      "    accuracy                           0.31       190\n",
      "   macro avg       0.65      0.50      0.24       190\n",
      "weighted avg       0.79      0.31      0.15       190\n",
      "\n"
     ]
    },
    {
     "name": "stderr",
     "output_type": "stream",
     "text": [
      "/opt/homebrew/lib/python3.11/site-packages/sklearn/metrics/_classification.py:1471: UndefinedMetricWarning: Precision and F-score are ill-defined and being set to 0.0 in labels with no predicted samples. Use `zero_division` parameter to control this behavior.\n",
      "  _warn_prf(average, modifier, msg_start, len(result))\n",
      "/opt/homebrew/lib/python3.11/site-packages/sklearn/metrics/_classification.py:1471: UndefinedMetricWarning: Precision and F-score are ill-defined and being set to 0.0 in labels with no predicted samples. Use `zero_division` parameter to control this behavior.\n",
      "  _warn_prf(average, modifier, msg_start, len(result))\n",
      "/opt/homebrew/lib/python3.11/site-packages/sklearn/metrics/_classification.py:1471: UndefinedMetricWarning: Precision and F-score are ill-defined and being set to 0.0 in labels with no predicted samples. Use `zero_division` parameter to control this behavior.\n",
      "  _warn_prf(average, modifier, msg_start, len(result))\n"
     ]
    }
   ],
   "source": [
    "## Above took 3.5 minutes\n",
    "print(\"Best parameters:\", gscv.best_params_)\n",
    "print(\"Best score:\", gscv.best_score_)\n",
    "\n",
    "rf_model = gscv.best_estimator_\n",
    "\n",
    "from sklearn.metrics import classification_report\n",
    "\n",
    "print(f\"Performance on TEST\\n*******************\\n{classification_report(y_test, rf_model.predict(X_test))}\")\n",
    "print(f\"Performance on TRAIN\\n********************\\n{classification_report(y_train, rf_model.predict(X_train))}\")\n"
   ]
  },
  {
   "cell_type": "markdown",
   "metadata": {},
   "source": [
    "### K Nearest Neighbor"
   ]
  },
  {
   "cell_type": "code",
   "execution_count": 82,
   "metadata": {},
   "outputs": [
    {
     "name": "stdout",
     "output_type": "stream",
     "text": [
      "Best parameters for KNN: {'algorithm': 'ball_tree', 'n_neighbors': 3, 'weights': 'uniform'}\n"
     ]
    }
   ],
   "source": [
    "from sklearn.neighbors import KNeighborsClassifier\n",
    "from sklearn.model_selection import GridSearchCV\n",
    "\n",
    "# Setting up the parameter grid for KNN\n",
    "param_grid = {\n",
    "    'n_neighbors': range(1, 100),\n",
    "    'weights': ['uniform', 'distance'], \n",
    "    'algorithm': ['auto','ball_tree','kd_tree','brute'] \n",
    "}\n",
    "\n",
    "knn = KNeighborsClassifier()\n",
    "\n",
    "knn_gscv = GridSearchCV(knn, param_grid, cv=5, scoring='recall')\n",
    "knn_gscv.fit(X_train, y_train)\n",
    "print(\"Best parameters for KNN:\", knn_gscv.best_params_)\n",
    "knn_model = knn_gscv.best_estimator_"
   ]
  },
  {
   "cell_type": "markdown",
   "metadata": {},
   "source": []
  },
  {
   "cell_type": "code",
   "execution_count": 83,
   "metadata": {},
   "outputs": [
    {
     "name": "stdout",
     "output_type": "stream",
     "text": [
      "Best parameters: {'algorithm': 'ball_tree', 'n_neighbors': 3, 'weights': 'uniform'}\n",
      "Best score: 0.29393939393939394\n",
      "KNN Classification Report:\n",
      "Performance on TEST\n",
      "*******************\n",
      "              precision    recall  f1-score   support\n",
      "\n",
      "       False       0.78      0.88      0.83        58\n",
      "        True       0.59      0.42      0.49        24\n",
      "\n",
      "    accuracy                           0.74        82\n",
      "   macro avg       0.69      0.65      0.66        82\n",
      "weighted avg       0.73      0.74      0.73        82\n",
      "\n",
      "Performance on TRAIN\n",
      "********************\n",
      "              precision    recall  f1-score   support\n",
      "\n",
      "       False       0.79      0.95      0.86       133\n",
      "        True       0.79      0.40      0.53        57\n",
      "\n",
      "    accuracy                           0.79       190\n",
      "   macro avg       0.79      0.68      0.70       190\n",
      "weighted avg       0.79      0.79      0.77       190\n",
      "\n"
     ]
    }
   ],
   "source": [
    "print(\"Best parameters:\", knn_gscv.best_params_)\n",
    "print(\"Best score:\", knn_gscv.best_score_)\n",
    "\n",
    "print(\"KNN Classification Report:\")\n",
    "print(f\"Performance on TEST\\n*******************\\n{classification_report(y_test, knn_model.predict(X_test))}\")\n",
    "print(f\"Performance on TRAIN\\n********************\\n{classification_report(y_train, knn_model.predict(X_train))}\")\n"
   ]
  },
  {
   "cell_type": "markdown",
   "metadata": {},
   "source": [
    "### Logistic Regression"
   ]
  },
  {
   "cell_type": "code",
   "execution_count": 73,
   "metadata": {},
   "outputs": [
    {
     "name": "stdout",
     "output_type": "stream",
     "text": [
      "Fitting 5 folds for each of 1980 candidates, totalling 9900 fits\n"
     ]
    },
    {
     "name": "stderr",
     "output_type": "stream",
     "text": [
      "/opt/homebrew/lib/python3.11/site-packages/sklearn/linear_model/_logistic.py:460: ConvergenceWarning: lbfgs failed to converge (status=1):\n",
      "STOP: TOTAL NO. of ITERATIONS REACHED LIMIT.\n",
      "\n",
      "Increase the number of iterations (max_iter) or scale the data as shown in:\n",
      "    https://scikit-learn.org/stable/modules/preprocessing.html\n",
      "Please also refer to the documentation for alternative solver options:\n",
      "    https://scikit-learn.org/stable/modules/linear_model.html#logistic-regression\n",
      "  n_iter_i = _check_optimize_result(\n",
      "/opt/homebrew/lib/python3.11/site-packages/sklearn/linear_model/_logistic.py:460: ConvergenceWarning: lbfgs failed to converge (status=1):\n",
      "STOP: TOTAL NO. of ITERATIONS REACHED LIMIT.\n",
      "\n",
      "Increase the number of iterations (max_iter) or scale the data as shown in:\n",
      "    https://scikit-learn.org/stable/modules/preprocessing.html\n",
      "Please also refer to the documentation for alternative solver options:\n",
      "    https://scikit-learn.org/stable/modules/linear_model.html#logistic-regression\n",
      "  n_iter_i = _check_optimize_result(\n"
     ]
    }
   ],
   "source": [
    "from sklearn.linear_model import LogisticRegression\n",
    "\n",
    "# Setting up the parameter grid for Logistic Regression\n",
    "param_grid = {\n",
    "    'C': [0.01, 0.1, 1, 10, 100],\n",
    "    'solver': ['liblinear', 'lbfgs'],\n",
    "    'max_iter': np.arange(100, 10000, 50)\n",
    "}\n",
    "\n",
    "# Initialize Logistic Regression\n",
    "lr_model = LogisticRegression()\n",
    "\n",
    "# Setup GridSearchCV\n",
    "lr_gscv = GridSearchCV(lr_model, param_grid, cv=5, scoring='recall', verbose=1)\n",
    "\n",
    "# Fit the model\n",
    "lr_gscv.fit(X_train, y_train)\n",
    "\n",
    "lr_model = lr_gscv.best_estimator_\n"
   ]
  },
  {
   "cell_type": "code",
   "execution_count": 74,
   "metadata": {},
   "outputs": [
    {
     "name": "stdout",
     "output_type": "stream",
     "text": [
      "Logistic Regression Classification Report:\n",
      "Performance on TEST\n",
      "*******************\n",
      "              precision    recall  f1-score   support\n",
      "\n",
      "       False       0.77      0.86      0.81        58\n",
      "        True       0.53      0.38      0.44        24\n",
      "\n",
      "    accuracy                           0.72        82\n",
      "   macro avg       0.65      0.62      0.63        82\n",
      "weighted avg       0.70      0.72      0.70        82\n",
      "\n",
      "Performance on TRAIN\n",
      "********************\n",
      "              precision    recall  f1-score   support\n",
      "\n",
      "       False       0.74      0.93      0.82       133\n",
      "        True       0.59      0.23      0.33        57\n",
      "\n",
      "    accuracy                           0.72       190\n",
      "   macro avg       0.66      0.58      0.58       190\n",
      "weighted avg       0.69      0.72      0.68       190\n",
      "\n"
     ]
    }
   ],
   "source": [
    "print(\"Logistic Regression Classification Report:\")\n",
    "print(f\"Performance on TEST\\n*******************\\n{classification_report(y_test, lr_model.predict(X_test))}\")\n",
    "print(f\"Performance on TRAIN\\n********************\\n{classification_report(y_train, lr_model.predict(X_train))}\")"
   ]
  },
  {
   "cell_type": "code",
   "execution_count": 75,
   "metadata": {},
   "outputs": [],
   "source": [
    "## Add bonus here if have time"
   ]
  }
 ],
 "metadata": {
  "kernelspec": {
   "display_name": "Python 3",
   "language": "python",
   "name": "python3"
  },
  "language_info": {
   "codemirror_mode": {
    "name": "ipython",
    "version": 3
   },
   "file_extension": ".py",
   "mimetype": "text/x-python",
   "name": "python",
   "nbconvert_exporter": "python",
   "pygments_lexer": "ipython3",
   "version": "3.11.6"
  }
 },
 "nbformat": 4,
 "nbformat_minor": 2
}
